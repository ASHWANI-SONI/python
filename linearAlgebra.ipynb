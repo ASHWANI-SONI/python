{
 "cells": [
  {
   "cell_type": "markdown",
   "id": "7a9d2aea-524a-4475-b12e-4929890177b6",
   "metadata": {},
   "source": [
    "### 1. Vectors & Scalars"
   ]
  },
  {
   "cell_type": "code",
   "execution_count": 2,
   "id": "9c2e07aa-c434-4836-bd69-a6ad4a7b6f14",
   "metadata": {},
   "outputs": [
    {
     "name": "stdout",
     "output_type": "stream",
     "text": [
      "[[4]\n",
      " [5]\n",
      " [6]]\n",
      "(3, 1)\n"
     ]
    }
   ],
   "source": [
    "import numpy as np\n",
    "\n",
    "x = np.array([[4],[5],[6]])\n",
    "print(x)\n",
    "print(x.shape)"
   ]
  },
  {
   "cell_type": "markdown",
   "id": "6598befc-57af-4c5c-b2d8-50ea584f3714",
   "metadata": {},
   "source": [
    "### 2. Matrics & Tensors\n",
    "- Matrix is a 2D array of scalars, denoted by X\n",
    "- Each individual element such as X1,1 is a scalar\n",
    "- Of =n, the matric is known as Square Matrix\n",
    "\n",
    "- __Tensor__ is an array with more than 2 axes denoted as __X__\n",
    "  - Think of Tensor as a generalization of an array wiht more than 2 axes"
   ]
  },
  {
   "cell_type": "code",
   "execution_count": 10,
   "id": "1215f0d5-7084-47d1-884c-77651f35ca9c",
   "metadata": {},
   "outputs": [
    {
     "name": "stdout",
     "output_type": "stream",
     "text": [
      "(6, 2)\n"
     ]
    }
   ],
   "source": [
    "X = np.array([[4, 5, 7, 10],\n",
    "              [10, 11, 12, 21],\n",
    "              [56, 80, 90, 110]])\n",
    "\n",
    "X = X.reshape(6, -1)\n",
    "print(X.shape)"
   ]
  },
  {
   "cell_type": "code",
   "execution_count": 40,
   "id": "f049e176-03d7-415c-9d8a-d52c8e5cd217",
   "metadata": {},
   "outputs": [
    {
     "data": {
      "image/png": "[encoded data removed]",
      "text/plain": [
       "<Figure size 640x480 with 1 Axes>"
      ]
     },
     "metadata": {},
     "output_type": "display_data"
    }
   ],
   "source": [
    "T = np.zeros((50, 25, 3), dtype = 'uint8')\n",
    "# print(T)\n",
    "\n",
    "# T[ :, :, 1] = 255\n",
    "T[ :, :, 2] = 255\n",
    "# all rows, all rows\n",
    "import matplotlib.pyplot as plt\n",
    "\n",
    "plt.imshow(T)\n",
    "plt.show()"
   ]
  },
  {
   "cell_type": "markdown",
   "id": "ec6c31f1-35d9-40c7-b6a5-3b205d81b154",
   "metadata": {},
   "source": [
    "### 3. Transpose \n",
    "For a 2D matrix transpose can be obtained as follows (A`)i, j = A j, \n",
    "For a vector, transpose makes the column vector into row. Thus a column vector can also be represented\n",
    "as x = [x1, x2, x3]T\n"
   ]
  },
  {
   "cell_type": "code",
   "execution_count": 33,
   "id": "f878bb86-a57c-456c-ac6c-dc9a4f627bd0",
   "metadata": {},
   "outputs": [
    {
     "data": {
      "text/plain": [
       "array([[  4],\n",
       "       [  5],\n",
       "       [  7],\n",
       "       [ 10],\n",
       "       [ 10],\n",
       "       [ 11],\n",
       "       [ 12],\n",
       "       [ 21],\n",
       "       [ 56],\n",
       "       [ 80],\n",
       "       [ 90],\n",
       "       [110]])"
      ]
     },
     "execution_count": 33,
     "metadata": {},
     "output_type": "execute_result"
    }
   ],
   "source": [
    "X = X.reshape(-1, 1)\n",
    "X"
   ]
  },
  {
   "cell_type": "code",
   "execution_count": 36,
   "id": "af910768-cf70-43fc-8a5b-0ffd860ed892",
   "metadata": {},
   "outputs": [
    {
     "name": "stdout",
     "output_type": "stream",
     "text": [
      "[[  4]\n",
      " [  5]\n",
      " [  7]\n",
      " [ 10]\n",
      " [ 10]\n",
      " [ 11]\n",
      " [ 12]\n",
      " [ 21]\n",
      " [ 56]\n",
      " [ 80]\n",
      " [ 90]\n",
      " [110]]\n",
      "[[  4   5   7  10  10  11  12  21  56  80  90 110]]\n"
     ]
    }
   ],
   "source": [
    "# it's transpose\n",
    "print(X)\n",
    "X1 = X.T\n",
    "print(X1)"
   ]
  },
  {
   "cell_type": "code",
   "execution_count": 38,
   "id": "0e62d5b4-35c5-426e-807b-d5bb37a2666c",
   "metadata": {},
   "outputs": [
    {
     "name": "stdout",
     "output_type": "stream",
     "text": [
      "[[  4   5   7  10]\n",
      " [ 10  11  12  21]\n",
      " [ 56  80  90 110]]\n",
      "[[  4  10  56]\n",
      " [  5  11  80]\n",
      " [  7  12  90]\n",
      " [ 10  21 110]]\n"
     ]
    }
   ],
   "source": [
    "X = X.reshape((3, 4))\n",
    "print(X)\n",
    "print(X.T)\n"
   ]
  },
  {
   "cell_type": "code",
   "execution_count": 54,
   "id": "eeadf9dd-3ca3-4097-9958-34f51d675d1b",
   "metadata": {},
   "outputs": [
    {
     "name": "stdout",
     "output_type": "stream",
     "text": [
      "(50, 25, 3)\n",
      "(3, 25, 50)\n",
      "(50, 3, 25)\n",
      "[0 0 0 0 0 0 0 0 0 0 0 0 0 0 0 0 0 0 0 0 0 0 0 0 0]\n"
     ]
    }
   ],
   "source": [
    "# Transpose of Tensor\n",
    "T.shape\n",
    "\n",
    "# plt.imshow(T)\n",
    "# plt.show()\n",
    "\n",
    "# print(T[0][0])\n",
    "print(T.shape)\n",
    "T1 = np.transpose(T)\n",
    "print(T1.shape)\n",
    "T1 = np.transpose(T, axes = (0, 2, 1)) # any permutation you can add\n",
    "# isko numpy ki doc se dekha\n",
    "print(T1.shape)\n",
    "print(T1[0][0])"
   ]
  },
  {
   "cell_type": "markdown",
   "id": "38b5bb2e-9906-4d9d-9816-6628ecbf4038",
   "metadata": {},
   "source": [
    "### 4. Broadcasting \n",
    "- You can add a scalar to a vector, and numpy will add it to each element\n",
    "    int the vector\n",
    "  x + a = xi + a\n",
    "- Similary you can add a vector to a matrix, and numpy will add the vector to each column of the matrix\n",
    "  "
   ]
  },
  {
   "cell_type": "code",
   "execution_count": 56,
   "id": "fbf290fd-c301-474b-aea4-07e325b60f59",
   "metadata": {},
   "outputs": [
    {
     "name": "stdout",
     "output_type": "stream",
     "text": [
      "[6 7 8 9]\n",
      "[10 11 12 13]\n"
     ]
    }
   ],
   "source": [
    "x = np.array([1, 2, 3, 4]) + 5\n",
    "print(x)\n",
    "print(x+4)"
   ]
  },
  {
   "cell_type": "code",
   "execution_count": 58,
   "id": "0a50b69e-a397-4529-ada5-4132787bc400",
   "metadata": {},
   "outputs": [
    {
     "name": "stdout",
     "output_type": "stream",
     "text": [
      "[[10 20 30 40]\n",
      " [40 50 60 70]]\n",
      "[[16 27 38 49]\n",
      " [46 57 68 79]]\n"
     ]
    }
   ],
   "source": [
    "X = np.array([[10, 20, 30 ,40],\n",
    "             [40, 50 , 60, 70]])\n",
    "print(X)\n",
    "print(X + x)"
   ]
  },
  {
   "cell_type": "markdown",
   "id": "cbefad3f-04a6-4020-b772-9c875cb1ac15",
   "metadata": {},
   "source": [
    "### 5. Matrix Multiplication\n",
    "This is perhaps one operation that you would use quite frequenlty in any ML/DL model.\n",
    "You should remeber a few things about multiplication\n",
    "- __C = AB__ is only defined when the second dimension of A matches the ifrst dimension of B\n",
    "- Further, if A is of shape(m, n) and B of shape (n, p), then C is of shape (m , p)\n",
    "-  This operation is concretely defined as Ci,j = Sumation(k) A(i, k) B(k, j)\n",
    " - C(i, j) is computed by taking the dot product of i-th row of with j-th column entries of B"
   ]
  },
  {
   "cell_type": "code",
   "execution_count": 2,
   "id": "9a640628-12e0-42e2-8961-db4165978e3b",
   "metadata": {},
   "outputs": [
    {
     "data": {
      "text/plain": [
       "array([[ 6,  6],\n",
       "       [12, 14]])"
      ]
     },
     "execution_count": 2,
     "metadata": {},
     "output_type": "execute_result"
    }
   ],
   "source": [
    "import numpy as np\n",
    "A = np.array([[1, 2],\n",
    "              [3, 4]])\n",
    "\n",
    "B = np.array([[0, 2],\n",
    "              [3, 2]])\n",
    "\n",
    "np.dot(A, B)"
   ]
  },
  {
   "cell_type": "markdown",
   "id": "a6fe9e1d-0b39-499c-908f-bd1fe87e02d1",
   "metadata": {},
   "source": [
    "### 6. Element Wise multiplication: hadamard product\n",
    "Element wise multiplication A(*)B\n",
    "Notice how numpy uses the * for this. Important to be careful, and not to confuse this wiht matrix multiplication"
   ]
  },
  {
   "cell_type": "code",
   "execution_count": 61,
   "id": "e1d29277-0cb0-450d-99e7-3f218779b87b",
   "metadata": {},
   "outputs": [
    {
     "data": {
      "text/plain": [
       "array([[0, 4],\n",
       "       [9, 8]])"
      ]
     },
     "execution_count": 61,
     "metadata": {},
     "output_type": "execute_result"
    }
   ],
   "source": [
    "A = np.array([[1, 2],\n",
    "              [3, 4]])\n",
    "\n",
    "B = np.array([[0, 2],\n",
    "              [3, 2]])\n",
    "\n",
    "A*B"
   ]
  },
  {
   "cell_type": "markdown",
   "id": "0dc3c41c-6393-45fc-afff-e08de0ab1fdf",
   "metadata": {},
   "source": [
    "###  7. Norms\n",
    "- Norm can be thought of as proxy for size of a vector.\n",
    "\n",
    " We define L^p norm a ||x||(p) = (Sumation |xi|^p)^(1/p)\n",
    "\n",
    " p >= 1, p belongs to R\n",
    "\n",
    "- Norm is a function that maps vectors to non-negative values. A norm staisifies \n",
    "  the following properties:\n",
    "  - f(x) = 0 => x = 0\n",
    "  - f(x+y) <= f(x) + f(y) (Triangle inequality)\n",
    "  - V a belongs to R, F(a x) = |a|f(x)\n",
    "\n",
    "L^2 norm is called the Eucleadian norm often ||x||\n",
    "  - We work mostly with squared L2 norm which can be computed as x^T x\n",
    "  - Squared L2 norm is easier to work with as its derivative is 2* x\n",
    "  - In smoe ML applications it is important to distinguish between \n",
    "    elements that are zero and small but zero. Squared L2 norm may not be th eright \n",
    "chouce as it grows very slowly near thre origin\n",
    "\n",
    "L1 norm is the absolute sum of all memeber of a vector\n",
    "  - Useful when difference 0 and non-zero elements is essential \n",
    "\n",
    "- Max-nomr L^(inf): This simplifies to absolute value ot the element with the highest magnitude\n"
   ]
  },
  {
   "cell_type": "code",
   "execution_count": 9,
   "id": "6ae71d29-a64c-4c90-989c-74600c5a1ff3",
   "metadata": {},
   "outputs": [
    {
     "name": "stdout",
     "output_type": "stream",
     "text": [
      "5.0\n",
      "7.0\n",
      "4.0\n"
     ]
    }
   ],
   "source": [
    "x = np.array([3, 4])\n",
    "lp2 = np.linalg.norm(x)\n",
    "print(lp2)\n",
    "lp1 = np.linalg.norm(x, ord = 1)\n",
    "print(lp1)\n",
    "\n",
    "lpinf = np.linalg.norm(x, ord=np.inf)\n",
    "print(lpinf)"
   ]
  },
  {
   "cell_type": "markdown",
   "id": "8092c207-72f3-436e-b701-726de84bd082",
   "metadata": {},
   "source": [
    "### 8. Determinant"
   ]
  },
  {
   "cell_type": "code",
   "execution_count": 19,
   "id": "ee5d9440-71f2-43dd-a028-5f23b0ef2dc0",
   "metadata": {},
   "outputs": [
    {
     "data": {
      "text/plain": [
       "-2.0000000000000004"
      ]
     },
     "execution_count": 19,
     "metadata": {},
     "output_type": "execute_result"
    }
   ],
   "source": [
    " A = np.array([[1,2],\n",
    "               [3,4]])\n",
    "np.linalg.det(A)"
   ]
  },
  {
   "cell_type": "markdown",
   "id": "b694a074-c490-4ba8-a756-5579c336fca2",
   "metadata": {},
   "source": [
    "### 9. Inverse"
   ]
  },
  {
   "cell_type": "code",
   "execution_count": 22,
   "id": "89a2cd5e-284b-48be-8e7f-5ab0661783cc",
   "metadata": {},
   "outputs": [
    {
     "name": "stdout",
     "output_type": "stream",
     "text": [
      "[[1.0000000e+00 0.0000000e+00]\n",
      " [8.8817842e-16 1.0000000e+00]]\n",
      "[[0.8 0.4]\n",
      " [0.4 0.2]]\n"
     ]
    }
   ],
   "source": [
    " A = np.array([[1,2],\n",
    "               [3,4]])\n",
    "Ainv = np.linalg.inv(A)\n",
    "\n",
    "print(np.dot(A, Ainv))\n",
    "\n",
    "A=  np.array([[6, 8],\n",
    "              [3, 4]])\n",
    "pseudoinv = np.linalg.pinv(A)\n",
    "# print(pseudoinv)\n",
    "\n",
    "print(np.dot(A, pseudoinv))\n"
   ]
  },
  {
   "cell_type": "code",
   "execution_count": null,
   "id": "38fa2c11-c7dd-44ab-817a-bb94272cc093",
   "metadata": {},
   "outputs": [],
   "source": [
    "### 10. Solve a system of "
   ]
  }
 ],
 "metadata": {
  "kernelspec": {
   "display_name": "Python 3 (ipykernel)",
   "language": "python",
   "name": "python3"
  },
  "language_info": {
   "codemirror_mode": {
    "name": "ipython",
    "version": 3
   },
   "file_extension": ".py",
   "mimetype": "text/x-python",
   "name": "python",
   "nbconvert_exporter": "python",
   "pygments_lexer": "ipython3",
   "version": "3.9.6"
  }
 },
 "nbformat": 4,
 "nbformat_minor": 5
}
