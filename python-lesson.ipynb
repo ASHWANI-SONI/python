{
 "cells": [
  {
   "cell_type": "code",
   "execution_count": null,
   "id": "0bf0067d-b174-43ce-97de-ff15475cd66c",
   "metadata": {},
   "outputs": [],
   "source": [
    "Learning Python"
   ]
  },
  {
   "cell_type": "code",
   "execution_count": 2,
   "id": "72ebcc89-a667-4bb9-8453-399195b2a59e",
   "metadata": {},
   "outputs": [
    {
     "name": "stdout",
     "output_type": "stream",
     "text": [
      "Hello World\n"
     ]
    }
   ],
   "source": [
    "print('Hello World')"
   ]
  },
  {
   "cell_type": "code",
   "execution_count": 1,
   "id": "6abc4778-9363-42d5-8a42-210df28ae218",
   "metadata": {},
   "outputs": [
    {
     "name": "stdout",
     "output_type": "stream",
     "text": [
      "made this cell a coding cell\n"
     ]
    }
   ],
   "source": [
    "print(\"made this cell a coding cell\")\n",
    "# used Esc + Y and then shift+enter"
   ]
  },
  {
   "cell_type": "markdown",
   "id": "c469c8db-9984-440f-9a40-8a90a1e36f22",
   "metadata": {},
   "source": [
    "making this cell to markdown cell\n",
    "Esc + m and then shift+enter"
   ]
  },
  {
   "cell_type": "code",
   "execution_count": 2,
   "id": "9916ec81-9bba-4072-b7ef-8b6ccb61cf82",
   "metadata": {},
   "outputs": [
    {
     "name": "stdout",
     "output_type": "stream",
     "text": [
      "zsh:1: command not found: jt\n"
     ]
    }
   ],
   "source": [
    "!jt -l"
   ]
  },
  {
   "cell_type": "code",
   "execution_count": 3,
   "id": "628510d6-f4dd-4964-a997-29fe111f107b",
   "metadata": {},
   "outputs": [
    {
     "ename": "SyntaxError",
     "evalue": "invalid syntax (932288808.py, line 1)",
     "output_type": "error",
     "traceback": [
      "\u001b[0;36m  Cell \u001b[0;32mIn[3], line 1\u001b[0;36m\u001b[0m\n\u001b[0;31m    python3 -m jt -l\u001b[0m\n\u001b[0m               ^\u001b[0m\n\u001b[0;31mSyntaxError\u001b[0m\u001b[0;31m:\u001b[0m invalid syntax\n"
     ]
    }
   ],
   "source": [
    "python3 -m jt -l"
   ]
  },
  {
   "cell_type": "code",
   "execution_count": 4,
   "id": "2c64e52e-b949-478b-ad96-24d6b9de6fb1",
   "metadata": {},
   "outputs": [
    {
     "name": "stdout",
     "output_type": "stream",
     "text": [
      "zsh:1: command not found: pip\n"
     ]
    }
   ],
   "source": [
    "!pip install jupyterthemes"
   ]
  },
  {
   "cell_type": "code",
   "execution_count": null,
   "id": "58077124-8820-49ba-b345-62060a2f2a6f",
   "metadata": {},
   "outputs": [],
   "source": [
    "!pip install ju"
   ]
  }
 ],
 "metadata": {
  "kernelspec": {
   "display_name": "Python 3 (ipykernel)",
   "language": "python",
   "name": "python3"
  },
  "language_info": {
   "codemirror_mode": {
    "name": "ipython",
    "version": 3
   },
   "file_extension": ".py",
   "mimetype": "text/x-python",
   "name": "python",
   "nbconvert_exporter": "python",
   "pygments_lexer": "ipython3",
   "version": "3.9.6"
  }
 },
 "nbformat": 4,
 "nbformat_minor": 5
}
