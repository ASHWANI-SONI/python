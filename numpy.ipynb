{
 "cells": [
  {
   "cell_type": "markdown",
   "id": "95519011-89df-4a3a-b96e-aac77a803bb1",
   "metadata": {},
   "source": [
    "### Working with Numpy - for mathematical operations"
   ]
  },
  {
   "cell_type": "code",
   "execution_count": 1,
   "id": "7c7f655d-d0bc-4d9d-a02c-d58f981b7de2",
   "metadata": {},
   "outputs": [],
   "source": [
    "import numpy as np"
   ]
  },
  {
   "cell_type": "code",
   "execution_count": 3,
   "id": "9a4f1108-2913-41d0-aaaf-8da8f81d03e9",
   "metadata": {},
   "outputs": [
    {
     "name": "stdout",
     "output_type": "stream",
     "text": [
      "[1 2 3 4 5]\n",
      "<class 'numpy.ndarray'>\n",
      "(5,)\n"
     ]
    }
   ],
   "source": [
    "a = np.array([1,2 ,3, 4, 5])\n",
    "print(a)\n",
    "print(type(a))\n",
    "\n",
    "print(a.shape)"
   ]
  },
  {
   "cell_type": "code",
   "execution_count": 5,
   "id": "611e53c5-f237-4175-8cfe-ea6c3828b8e5",
   "metadata": {},
   "outputs": [
    {
     "name": "stdout",
     "output_type": "stream",
     "text": [
      "[[1]\n",
      " [2]\n",
      " [3]\n",
      " [4]\n",
      " [5]]\n",
      "(5, 1)\n"
     ]
    }
   ],
   "source": [
    "b = np.array([[1], [2], [3], [4],[5]])\n",
    "print(b)\n",
    "print(b.shape)"
   ]
  },
  {
   "cell_type": "code",
   "execution_count": 7,
   "id": "34ee7fb4-f9cf-4670-a7a6-233d17054906",
   "metadata": {},
   "outputs": [
    {
     "name": "stdout",
     "output_type": "stream",
     "text": [
      "1\n"
     ]
    }
   ],
   "source": [
    "print(b[0][0])"
   ]
  },
  {
   "cell_type": "code",
   "execution_count": 12,
   "id": "cc53561b-3492-43d2-b6fe-edbb65fdf8dc",
   "metadata": {},
   "outputs": [
    {
     "name": "stdout",
     "output_type": "stream",
     "text": [
      "[[1 2]\n",
      " [3 5]]\n",
      "(2, 2)\n",
      "3\n"
     ]
    }
   ],
   "source": [
    "a = np.array([[1,2], [3, 5]])\n",
    "print(a)\n",
    "print(a.shape)\n",
    "print(a[1][0])"
   ]
  },
  {
   "cell_type": "markdown",
   "id": "7afc43a6-c8b7-4532-acb4-83a7d0d72c08",
   "metadata": {},
   "source": [
    "# create zeroes, ones, custom array"
   ]
  },
  {
   "cell_type": "code",
   "execution_count": 22,
   "id": "4fdb946f-1721-47ae-a96f-2684f521bf13",
   "metadata": {},
   "outputs": [
    {
     "name": "stdout",
     "output_type": "stream",
     "text": [
      "[[0. 0. 0.]\n",
      " [0. 0. 0.]\n",
      " [0. 0. 0.]]\n",
      "[[1. 1. 1.]\n",
      " [1. 1. 1.]]\n",
      "[[5 5]\n",
      " [5 5]\n",
      " [5 5]]\n",
      "[[1. 0. 0. 0.]\n",
      " [0. 1. 0. 0.]\n",
      " [0. 0. 1. 0.]\n",
      " [0. 0. 0. 1.]]\n",
      "[[0.53922038 0.49732587 0.35394272]\n",
      " [0.26138518 0.93857675 0.58393098]]\n"
     ]
    }
   ],
   "source": [
    "a = np.zeros((3,3))\n",
    "print(a)\n",
    "\n",
    "b = np.ones((2, 3))\n",
    "print(b)\n",
    "\n",
    "# array of some constants\n",
    "c = np.full((3, 2), 5)\n",
    "print(c)\n",
    "\n",
    "# Identitiy Matric - Size/Square matrix\n",
    "d = np.eye(4)\n",
    "print(d)\n",
    "\n",
    "#Random Matrix\n",
    "randomMatrix = np.random.random((2, 3))\n",
    "print(randomMatrix)"
   ]
  },
  {
   "cell_type": "code",
   "execution_count": 26,
   "id": "56782247-78fb-4651-bb3e-318579a65434",
   "metadata": {},
   "outputs": [
    {
     "name": "stdout",
     "output_type": "stream",
     "text": [
      "[0.35394272 0.58393098]\n"
     ]
    }
   ],
   "source": [
    "print(randomMatrix[:, 2])"
   ]
  },
  {
   "cell_type": "code",
   "execution_count": 28,
   "id": "2bc61811-7d8e-489c-bd8d-4176cdc7b290",
   "metadata": {},
   "outputs": [
    {
     "name": "stdout",
     "output_type": "stream",
     "text": [
      "[[0.53922038 0.49732587 0.35394272]\n",
      " [0.26138518 1.         1.        ]]\n"
     ]
    }
   ],
   "source": [
    "randomMatrix[1, 1:3] = 1\n",
    "print(randomMatrix)"
   ]
  },
  {
   "cell_type": "code",
   "execution_count": 35,
   "id": "755719f7-4a5e-41e6-97b6-d3b79e3d1269",
   "metadata": {},
   "outputs": [
    {
     "name": "stdout",
     "output_type": "stream",
     "text": [
      "[[0 0]\n",
      " [0 0]\n",
      " [0 0]]\n",
      "[[0 7]\n",
      " [5 7]\n",
      " [0 7]]\n"
     ]
    }
   ],
   "source": [
    "z = np.zeros((3, 2), dtype = np.int64)\n",
    "print(z)\n",
    "\n",
    "z[1, :] = 5\n",
    "z[ :, -1] = 7\n",
    "\n",
    "print(z)"
   ]
  },
  {
   "cell_type": "code",
   "execution_count": 37,
   "id": "877776a8-169e-4eb3-89aa-583475e6618e",
   "metadata": {},
   "outputs": [
    {
     "name": "stdout",
     "output_type": "stream",
     "text": [
      "int64\n"
     ]
    }
   ],
   "source": [
    "# Datatypes\n",
    "print(z.dtype)"
   ]
  },
  {
   "cell_type": "code",
   "execution_count": 45,
   "id": "31c93536-5894-4e4c-8da3-69a165d24283",
   "metadata": {},
   "outputs": [
    {
     "name": "stdout",
     "output_type": "stream",
     "text": [
      "[[ 6  8]\n",
      " [10 12]]\n",
      "[[-4 -4]\n",
      " [-4 -4]]\n",
      "[[0.2        0.33333333]\n",
      " [0.42857143 0.5       ]]\n",
      "[[1.         1.41421356]\n",
      " [1.73205081 2.        ]]\n",
      "[[0.2        0.33333333]\n",
      " [0.42857143 0.5       ]]\n"
     ]
    }
   ],
   "source": [
    "# Mathematical Operations\n",
    "\n",
    "x = np.array([[1, 2], [3, 4]])\n",
    "y = np.array([[5,6 ], [7, 8]])\n",
    "\n",
    "#Element Wise Addition\n",
    "print(x+y)\n",
    "print(x-y)\n",
    "print(np.divide(x, y))\n",
    "print(np.sqrt(x))\n",
    "print(x/y)"
   ]
  },
  {
   "cell_type": "code",
   "execution_count": 48,
   "id": "3ca4499a-1375-454e-bc64-4af1f4c1ecfe",
   "metadata": {},
   "outputs": [
    {
     "name": "stdout",
     "output_type": "stream",
     "text": [
      "[[1 2]\n",
      " [3 4]]\n",
      "[[5 6]\n",
      " [7 8]]\n"
     ]
    }
   ],
   "source": [
    "# Matrix Multiplication/ Dot Product\n",
    "\n",
    "print(x)\n",
    "print(y)"
   ]
  },
  {
   "cell_type": "code",
   "execution_count": 52,
   "id": "ada383d0-c8fc-4a45-ab53-98f14663a345",
   "metadata": {},
   "outputs": [
    {
     "name": "stdout",
     "output_type": "stream",
     "text": [
      "[[19 22]\n",
      " [43 50]]\n",
      "[[19 22]\n",
      " [43 50]]\n"
     ]
    }
   ],
   "source": [
    "print(x.dot(y))\n",
    "print(np.dot(x, y))"
   ]
  },
  {
   "cell_type": "code",
   "execution_count": 54,
   "id": "323a6e95-8aa1-4591-a4e1-cd394eed2c6a",
   "metadata": {},
   "outputs": [
    {
     "name": "stdout",
     "output_type": "stream",
     "text": [
      "30\n"
     ]
    }
   ],
   "source": [
    "# Multiplication(Dot Product) of vectors => Scalar\n",
    "a = np.array([1,2,3, 4])\n",
    "b = np.array([1, 2,3, 4])\n",
    "print(a.dot(b))"
   ]
  },
  {
   "cell_type": "code",
   "execution_count": 56,
   "id": "da4a19fe-66e7-4a0a-a36a-3385d49fd23d",
   "metadata": {},
   "outputs": [
    {
     "name": "stdout",
     "output_type": "stream",
     "text": [
      "[1 2 3 4]\n"
     ]
    }
   ],
   "source": [
    "print(a)"
   ]
  },
  {
   "cell_type": "code",
   "execution_count": 58,
   "id": "16cf6e4c-cb77-4a81-96c1-c0b24b39d956",
   "metadata": {},
   "outputs": [
    {
     "name": "stdout",
     "output_type": "stream",
     "text": [
      "10\n"
     ]
    }
   ],
   "source": [
    "print(sum(a))"
   ]
  },
  {
   "cell_type": "code",
   "execution_count": 60,
   "id": "731826fa-2e85-4a18-8f9e-ea4a6b6a60ce",
   "metadata": {},
   "outputs": [
    {
     "name": "stdout",
     "output_type": "stream",
     "text": [
      "10\n"
     ]
    }
   ],
   "source": [
    "print(np.sum(a))"
   ]
  },
  {
   "cell_type": "code",
   "execution_count": 62,
   "id": "bf827041-4504-4795-87cc-e9c6cbf30cdc",
   "metadata": {},
   "outputs": [
    {
     "name": "stdout",
     "output_type": "stream",
     "text": [
      "[[1 2]\n",
      " [3 4]]\n"
     ]
    }
   ],
   "source": [
    "print(x)"
   ]
  },
  {
   "cell_type": "code",
   "execution_count": 65,
   "id": "fae478eb-68bb-4bb3-abc1-4c2535bba231",
   "metadata": {},
   "outputs": [
    {
     "name": "stdout",
     "output_type": "stream",
     "text": [
      "10\n",
      "[4 6]\n",
      "[3 7]\n"
     ]
    }
   ],
   "source": [
    "print(np.sum(x))\n",
    "print(np.sum(x, axis = 0)) # coloumns\n",
    "print(np.sum(x, axis = 1)) # rows"
   ]
  },
  {
   "cell_type": "code",
   "execution_count": 67,
   "id": "675333c3-31f5-4d2d-a11f-984804cb719e",
   "metadata": {},
   "outputs": [
    {
     "name": "stdout",
     "output_type": "stream",
     "text": [
      "[1 2 3 4]\n",
      "[  1  16  81 256]\n"
     ]
    }
   ],
   "source": [
    "# stacking of arrays\n",
    "print(a)\n",
    "b = b**2\n",
    "print(b)"
   ]
  },
  {
   "cell_type": "code",
   "execution_count": 79,
   "id": "1dacbba7-06ba-4aee-af73-e25f873fa578",
   "metadata": {},
   "outputs": [],
   "source": [
    "a = np.stack((a, b),axis=0)\n",
    "# np.stack((a, b),axis=1)"
   ]
  },
  {
   "cell_type": "code",
   "execution_count": 82,
   "id": "e73035ae-26fd-4b87-a4f3-ffbbcf8b571a",
   "metadata": {},
   "outputs": [
    {
     "name": "stdout",
     "output_type": "stream",
     "text": [
      "[[  1   2]\n",
      " [  3   4]\n",
      " [  1  16]\n",
      " [ 81 256]]\n"
     ]
    }
   ],
   "source": [
    "# reshaoe a numpy array\n",
    "# print(a)\n",
    "a = a.reshape((4, 2))\n",
    "print(a)"
   ]
  },
  {
   "cell_type": "code",
   "execution_count": 88,
   "id": "bee869c1-7e0b-4e47-b53b-c08e131f265f",
   "metadata": {},
   "outputs": [
    {
     "name": "stdout",
     "output_type": "stream",
     "text": [
      "[[  1   2   3   4]\n",
      " [  1  16  81 256]]\n"
     ]
    }
   ],
   "source": [
    "a = a.reshape((2, -1))\n",
    "print(a)"
   ]
  },
  {
   "cell_type": "markdown",
   "id": "dbec4334-bcf4-4542-b398-195fb523a032",
   "metadata": {},
   "source": [
    "# Numpy Random Module\n",
    "- rand: Random in a given shape.\n",
    "- randn: Return a sample(or samples) from the \"standard normal\" distribution.\n",
    "- randint: Return random integers from low(inclusive) to high(exclusive)\n",
    "- random: Return random floats in the half-open interval[0.0, 1.0)\n",
    "- choice: Generates a random sample from a given 1-D array\n",
    "- Shuffle: Shuffles the contents of sequence"
   ]
  },
  {
   "cell_type": "code",
   "execution_count": 91,
   "id": "00189243-fef7-45d6-a526-45dc88a906ed",
   "metadata": {},
   "outputs": [
    {
     "name": "stdout",
     "output_type": "stream",
     "text": [
      "[0 1 2 3 4 5 6 7 8 9]\n"
     ]
    }
   ],
   "source": [
    "a = np.arange(10)\n",
    "print(a)"
   ]
  },
  {
   "cell_type": "code",
   "execution_count": 93,
   "id": "db3e1071-2a81-4469-b9eb-ebc0ac65710c",
   "metadata": {},
   "outputs": [
    {
     "name": "stdout",
     "output_type": "stream",
     "text": [
      "[ 5  6  7  8  9 10 11 12 13 14]\n"
     ]
    }
   ],
   "source": [
    "a = np.arange(10) + 5\n",
    "print(a)"
   ]
  },
  {
   "cell_type": "code",
   "execution_count": 137,
   "id": "af6f3c7b-5681-4822-9498-79d33f6871c3",
   "metadata": {},
   "outputs": [
    {
     "name": "stdout",
     "output_type": "stream",
     "text": [
      "[8 5 8]\n"
     ]
    }
   ],
   "source": [
    "np.random.seed(1)\n",
    "np.random.shuffle(a)\n",
    "print(a)"
   ]
  },
  {
   "cell_type": "code",
   "execution_count": 100,
   "id": "50b964ab-73ed-4739-8262-5630d71b53a3",
   "metadata": {},
   "outputs": [
    {
     "name": "stdout",
     "output_type": "stream",
     "text": [
      "[[0.85388753 0.84655027 0.50964604]\n",
      " [0.63692858 0.03938181 0.13368946]]\n"
     ]
    }
   ],
   "source": [
    "a = np.random.rand(2, 3)\n",
    "print(a)"
   ]
  },
  {
   "cell_type": "code",
   "execution_count": 102,
   "id": "2be861d9-8106-441a-95a0-dd066599c587",
   "metadata": {},
   "outputs": [
    {
     "name": "stdout",
     "output_type": "stream",
     "text": [
      "[[-1.94407176 -2.67264637 -0.34676567]\n",
      " [ 1.27123563 -0.18810074  0.26422225]]\n"
     ]
    }
   ],
   "source": [
    "a = np.random.randn(2, 3)\n",
    "print(a)"
   ]
  },
  {
   "cell_type": "code",
   "execution_count": 110,
   "id": "ca5be656-79ce-4956-92e1-bc606dd3d483",
   "metadata": {},
   "outputs": [
    {
     "name": "stdout",
     "output_type": "stream",
     "text": [
      "[8 8 5]\n"
     ]
    }
   ],
   "source": [
    "a = np.random.randint(5, 10, 3)\n",
    "print(a)"
   ]
  },
  {
   "cell_type": "code",
   "execution_count": 135,
   "id": "e2ad302c-4883-423a-8a06-12e3a0c879ad",
   "metadata": {},
   "outputs": [
    {
     "name": "stdout",
     "output_type": "stream",
     "text": [
      "1\n"
     ]
    }
   ],
   "source": [
    "# randomly pick one element from a array\n",
    "element = np.random.choice([1, 4, 3, 2, 11, 27])\n",
    "print(element)"
   ]
  },
  {
   "cell_type": "markdown",
   "id": "d85621b5-0327-4474-82bf-18aaa2813653",
   "metadata": {},
   "source": [
    "# Some more Numpy Functions - Statistics\n",
    "- min, max\n",
    "- mean\n",
    "- median\n",
    "- average\n",
    "- variance\n",
    "- standard deviation\n"
   ]
  },
  {
   "cell_type": "code",
   "execution_count": 143,
   "id": "f088ceba-580b-4856-bd9f-4923ab6ed54c",
   "metadata": {},
   "outputs": [
    {
     "name": "stdout",
     "output_type": "stream",
     "text": [
      "[[1 2 3 4]\n",
      " [7 6 2 0]]\n",
      "0\n",
      "[1 2 2 0]\n"
     ]
    }
   ],
   "source": [
    "a = np.array([[1, 2, 3, 4], [7, 6, 2, 0]])\n",
    "print(a)\n",
    "print(np.min(a))\n",
    "# Specify axis for the direction in case of multidim array\n",
    "print(np.min(a, axis =0 ))\n",
    "\n",
    "\n",
    "# Mean, average all the elements"
   ]
  },
  {
   "cell_type": "code",
   "execution_count": 149,
   "id": "dff57f32-5ea0-45f0-85f9-498dbf00950c",
   "metadata": {},
   "outputs": [
    {
     "name": "stdout",
     "output_type": "stream",
     "text": [
      "3.0\n",
      "3.0\n",
      "[4.  4.  2.5 2. ]\n",
      "[2.5  3.75]\n"
     ]
    }
   ],
   "source": [
    "b = np.array([1, 2, 3, 4 ,5])\n",
    "m = sum(b)/5\n",
    "print(m)\n",
    "\n",
    "print(np.mean(b))\n",
    "print(np.mean(a, axis = 0))\n",
    "print(np.mean(a, axis = 1))"
   ]
  },
  {
   "cell_type": "code",
   "execution_count": 157,
   "id": "d78162b3-1c21-4b8a-aef4-7e25d0b09841",
   "metadata": {},
   "outputs": [
    {
     "name": "stdout",
     "output_type": "stream",
     "text": [
      "2.0\n",
      "2.4\n",
      "2.066666666666667\n",
      "1.854723699099141\n",
      "1.854723699099141\n",
      "3.440000000000001\n",
      "3.4400000000000004\n"
     ]
    }
   ],
   "source": [
    "c = np.array([1, 5, 4, 2, 0])\n",
    "\n",
    "print(np.median(c))\n",
    "\n",
    "# Mean vs Average is Weighted\n",
    "print(np.mean(c))\n",
    "\n",
    "\n",
    "# Weights\n",
    "w = np.array([1, 2, 3, 4,5])\n",
    "# w = np.array([1, 1, 1,1 ,1])\n",
    "print(np.average(c, weights =w))\n",
    "\n",
    "# Standard Deviation\n",
    "u = np.mean(c)\n",
    "myStd = np.sqrt(np.mean(abs(c-u)**2))\n",
    "print(myStd)\n",
    "\n",
    "#inbuilt Function\n",
    "dev = np.std(c)\n",
    "print(dev)\n",
    "\n",
    "#Variance\n",
    "print(myStd**2)\n",
    "print(np.var(c))"
   ]
  }
 ],
 "metadata": {
  "kernelspec": {
   "display_name": "Python 3 (ipykernel)",
   "language": "python",
   "name": "python3"
  },
  "language_info": {
   "codemirror_mode": {
    "name": "ipython",
    "version": 3
   },
   "file_extension": ".py",
   "mimetype": "text/x-python",
   "name": "python",
   "nbconvert_exporter": "python",
   "pygments_lexer": "ipython3",
   "version": "3.9.6"
  }
 },
 "nbformat": 4,
 "nbformat_minor": 5
}
