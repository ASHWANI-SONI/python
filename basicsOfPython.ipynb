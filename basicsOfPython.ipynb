{
 "cells": [
  {
   "cell_type": "code",
   "execution_count": 3,
   "id": "5acb0a60-3e7b-4fc2-ae9c-2d0495366383",
   "metadata": {},
   "outputs": [],
   "source": [
    "# this is a comment"
   ]
  },
  {
   "cell_type": "code",
   "execution_count": 6,
   "id": "7e3c4acb-8223-4b09-a84d-deca366df405",
   "metadata": {},
   "outputs": [
    {
     "data": {
      "text/plain": [
       "'\\nthis is not a multi-line comment\\n'"
      ]
     },
     "execution_count": 6,
     "metadata": {},
     "output_type": "execute_result"
    }
   ],
   "source": [
    "'''\n",
    "this is not a multi-line comment\n",
    "'''"
   ]
  },
  {
   "cell_type": "markdown",
   "id": "f44a3731-a7be-463b-87f8-06165bdf5cc2",
   "metadata": {},
   "source": [
    "# Variables\n",
    "\n",
    "- Numbers\n",
    "  - float\n",
    "  - Integer\n",
    "  - Complex\n",
    "- Strings\n",
    "  - Single quotes\n",
    "  - double quotes\n",
    "  - trilpe quotes\n",
    "  - escape sequence"
   ]
  },
  {
   "cell_type": "code",
   "execution_count": 15,
   "id": "244413f9-073d-4bdc-a66c-dc95b457b15d",
   "metadata": {},
   "outputs": [
    {
     "name": "stdout",
     "output_type": "stream",
     "text": [
      "<class 'int'>\n"
     ]
    }
   ],
   "source": [
    "a = 5\n",
    "print(type(a))"
   ]
  },
  {
   "cell_type": "code",
   "execution_count": 18,
   "id": "23568ead-69cd-42e2-9cc5-e005f5d179d3",
   "metadata": {},
   "outputs": [
    {
     "name": "stdout",
     "output_type": "stream",
     "text": [
      "<class 'str'>\n"
     ]
    }
   ],
   "source": [
    "a = \"ASHWANI SONI\"\n",
    "print(type(a))"
   ]
  },
  {
   "cell_type": "code",
   "execution_count": 17,
   "id": "d3982a9b-84f4-4af6-a4ff-9f620f5cd088",
   "metadata": {},
   "outputs": [
    {
     "data": {
      "text/plain": [
       "str"
      ]
     },
     "execution_count": 17,
     "metadata": {},
     "output_type": "execute_result"
    }
   ],
   "source": [
    "a = 'a'\n",
    "type(a)"
   ]
  },
  {
   "cell_type": "code",
   "execution_count": 29,
   "id": "b64b7366-db82-432e-babd-18e948d97c31",
   "metadata": {},
   "outputs": [
    {
     "name": "stdout",
     "output_type": "stream",
     "text": [
      "python\n",
      "\"python\"\n",
      "\n",
      "python \n",
      "\n"
     ]
    }
   ],
   "source": [
    "a = \"python\"\n",
    "print(a)\n",
    "name = \"harsh\"\n",
    "a = '\"python\"'\n",
    "print(a)\n",
    "a = '''\n",
    "python \n",
    "'''\n",
    "print(a)"
   ]
  },
  {
   "cell_type": "markdown",
   "id": "3021269d-6ec9-4ee7-a1d8-51c5461a4e93",
   "metadata": {},
   "source": [
    "# Variables\n",
    "\n",
    "A types of identifier.\n",
    "Rules of naming identifiers:\n",
    "- The first character of the ident ider must be a  letter of the alpabets(uppercase ASCII or lowercase ASCII or Unicode character or an underscore(_).\n",
    "- The rest of the identifier name can consist of letters(uppercase ASCII or Unicode character), underscore(_) or digits(0-9).\n",
    "- Identifier names are case-sensitive. For example, myName and myName are the the same. Note the lowercase n in the former and the uppercase N in the latter.\n",
    "- Examples of invalid identifer names are 2things, this is spaced out, my-name and >a1b2_c3"
   ]
  },
  {
   "cell_type": "code",
   "execution_count": 37,
   "id": "fcc3c0c3-334b-40b9-bffd-636b6d19d34e",
   "metadata": {},
   "outputs": [
    {
     "name": "stdout",
     "output_type": "stream",
     "text": [
      "77\n",
      "78\n"
     ]
    }
   ],
   "source": [
    "_abc = 19\n",
    "_HIGU = 231.234\n",
    "sdf_aer = 1234\n",
    "werUAUH_ = 234\n",
    "\n",
    "abc = 77\n",
    "ABC = 78\n",
    "print(abc) \n",
    "print(ABC)\n"
   ]
  },
  {
   "cell_type": "markdown",
   "id": "d8599c55-449f-44fa-a48f-a1c1a49ea000",
   "metadata": {},
   "source": [
    "# Arithematic Operator (+, -, *, **, /, //, %)\n"
   ]
  },
  {
   "cell_type": "code",
   "execution_count": 39,
   "id": "f8a6ec57-df27-4921-a405-f85773ab2f4f",
   "metadata": {},
   "outputs": [
    {
     "name": "stdout",
     "output_type": "stream",
     "text": [
      "30\n",
      "-10\n",
      "200\n",
      "100000000000000000000\n",
      "0.5\n",
      "0.5000000000\n",
      "0\n",
      "10\n"
     ]
    }
   ],
   "source": [
    "a = 10\n",
    "b = 20 \n",
    "print(a + b)\n",
    "print(a - b)\n",
    "print(a*b)\n",
    "#power operator\n",
    "print (a**b)\n",
    "print(a/b)\n",
    "# precision operator\n",
    "print(\"%0.10f\"%(a/b))\n",
    "#integer/floor division\n",
    "print(a//b) \n",
    "print(a%b) #modulus"
   ]
  },
  {
   "cell_type": "code",
   "execution_count": null,
   "id": "53a4ed3c-de6b-4efe-85cc-f584e471c370",
   "metadata": {},
   "outputs": [],
   "source": [
    "a, b, c = 10, 20, 30\n",
    "print(a, b, c)"
   ]
  },
  {
   "cell_type": "markdown",
   "id": "80bc37ea-8a29-4578-a80d-3a1240dee90e",
   "metadata": {},
   "source": [
    "# Control Flow statements \n",
    "1. Conditional statements\n",
    "2. "
   ]
  },
  {
   "cell_type": "code",
   "execution_count": 41,
   "id": "f7acc0d8-95e9-4811-8d4c-cf86fbf53e6c",
   "metadata": {},
   "outputs": [
    {
     "name": "stdout",
     "output_type": "stream",
     "text": [
      "negative\n"
     ]
    }
   ],
   "source": [
    "a = -1\n",
    "\n",
    "if a>0:\n",
    "    print(\"positive\")\n",
    "else:\n",
    "    print(\"negative\")"
   ]
  },
  {
   "cell_type": "code",
   "execution_count": null,
   "id": "872fee5a-06a8-4643-a259-d8d3023fc170",
   "metadata": {},
   "outputs": [],
   "source": [
    " a = 4 \n",
    "if a==0:\n",
    "    print(\"zero\")\n",
    "elif a<0:\n",
    "    print(\"negative\")\n",
    "else:\n",
    "    print(\"positive\")\n",
    "    "
   ]
  },
  {
   "cell_type": "code",
   "execution_count": 45,
   "id": "6711bd51-bc22-40ed-90ab-b151ac3df403",
   "metadata": {},
   "outputs": [
    {
     "name": "stdout",
     "output_type": "stream",
     "text": [
      "less than 5\n"
     ]
    }
   ],
   "source": [
    "a = 4\n",
    "if a<5:\n",
    "    print(\"less than 5\")"
   ]
  },
  {
   "cell_type": "markdown",
   "id": "6177dac2-ddee-4803-822e-11e524f1da24",
   "metadata": {},
   "source": [
    "# indentation rule \n",
    "\n",
    "## recomended to use 2 - space but tab for easier "
   ]
  },
  {
   "cell_type": "markdown",
   "id": "3b643c3b-8dd4-4138-bfc4-30d4e9323b8c",
   "metadata": {},
   "source": [
    "### Nested if-else"
   ]
  },
  {
   "cell_type": "code",
   "execution_count": null,
   "id": "74fff372-969f-4c28-94a0-bcfa6217c750",
   "metadata": {},
   "outputs": [],
   "source": [
    "a = 1324\n",
    "if a!=0:\n",
    "    if a<0:\n",
    "        print(\"positive\")\n",
    "    else:\n",
    "        print(\"negative\")\n",
    "else:\n",
    "    print(\"zero\")"
   ]
  },
  {
   "cell_type": "code",
   "execution_count": 57,
   "id": "a96fe18b-c07a-4fcb-a9df-4545f2da2585",
   "metadata": {},
   "outputs": [
    {
     "name": "stdout",
     "output_type": "stream",
     "text": [
      "3242\n",
      "Ashdlj\n",
      "45\n",
      "78\n"
     ]
    }
   ],
   "source": [
    "a = 7\n",
    "if a != 7 :\n",
    "  print(a)\n",
    "print(3242)\n",
    "print('Ashdlj')\n",
    "if 2<3 :\n",
    "    print(45)\n",
    "    if 78==78:\n",
    "        print(78)\n"
   ]
  },
  {
   "cell_type": "markdown",
   "id": "911641bb-4353-4216-b6da-595fb7fec3c2",
   "metadata": {},
   "source": [
    "# 2. Looping Statements"
   ]
  },
  {
   "cell_type": "markdown",
   "id": "d4867113-2c3c-40de-b743-e26645276366",
   "metadata": {},
   "source": [
    "## (i) while"
   ]
  },
  {
   "cell_type": "code",
   "execution_count": 63,
   "id": "a9579c6c-8deb-4585-bb8f-5b7fcb3d5d65",
   "metadata": {},
   "outputs": [
    {
     "name": "stdout",
     "output_type": "stream",
     "text": [
      "10\n",
      "hello\n",
      "9\n",
      "hello\n",
      "8\n",
      "hello\n",
      "7\n",
      "hello\n",
      "6\n",
      "hello\n",
      "5\n",
      "hello\n",
      "4\n",
      "hello\n",
      "3\n",
      "hello\n",
      "2\n",
      "hello\n",
      "1\n",
      "hello\n"
     ]
    }
   ],
   "source": [
    "a = 10\n",
    "while a > 0 :\n",
    "    print(a)\n",
    "    a -= 1\n",
    "    print(\"hello\")"
   ]
  },
  {
   "cell_type": "markdown",
   "id": "3da4c714-8d8d-4450-82d8-27c6a1b39a58",
   "metadata": {},
   "source": [
    "## (ii) for "
   ]
  },
  {
   "cell_type": "code",
   "execution_count": 64,
   "id": "5f63c7d3-fc09-4c6b-a6ad-8ba5c74d2c2c",
   "metadata": {},
   "outputs": [
    {
     "name": "stdout",
     "output_type": "stream",
     "text": [
      "p\n",
      "y\n",
      "t\n",
      "h\n",
      "o\n",
      "n\n"
     ]
    }
   ],
   "source": [
    "for i in \"python\":\n",
    "    print(i)"
   ]
  },
  {
   "cell_type": "code",
   "execution_count": 68,
   "id": "51c05948-9025-4622-b4d3-4cd1d2b22e87",
   "metadata": {},
   "outputs": [
    {
     "name": "stdout",
     "output_type": "stream",
     "text": [
      "0 1 2 3 4 "
     ]
    }
   ],
   "source": [
    "for i in range(5): # [0, 1, 2, 3, 4]\n",
    "    print(i, end = \" \")\n",
    "    "
   ]
  },
  {
   "cell_type": "code",
   "execution_count": 66,
   "id": "8dedee37-c70a-491d-af19-8696e44b2c80",
   "metadata": {},
   "outputs": [
    {
     "name": "stdout",
     "output_type": "stream",
     "text": [
      "2\n",
      "3\n",
      "4\n",
      "5\n",
      "6\n",
      "7\n",
      "8\n",
      "9\n"
     ]
    }
   ],
   "source": [
    "for i in range(2, 10): # [2, 3, 4, 5,6 7, 8, 9]\n",
    "    print(i)"
   ]
  },
  {
   "cell_type": "code",
   "execution_count": 67,
   "id": "e88c4198-7ee1-4e58-9ed7-325f46ba1b5c",
   "metadata": {},
   "outputs": [
    {
     "name": "stdout",
     "output_type": "stream",
     "text": [
      "2\n",
      "4\n",
      "6\n",
      "8\n"
     ]
    }
   ],
   "source": [
    "for i in range(2, 10, 2): # [2, 4, 6, 8]\n",
    "    print(i)"
   ]
  },
  {
   "cell_type": "markdown",
   "id": "9a136830-3cec-4f95-bd7b-7e3c753a18a8",
   "metadata": {},
   "source": [
    "## Operators and expressions\n",
    "\n",
    "Expression is a combination of operators and operands"
   ]
  },
  {
   "cell_type": "markdown",
   "id": "64e5da9e-65df-4365-9652-4614cc223b13",
   "metadata": {},
   "source": [
    "### 1. Arthematic operartors"
   ]
  },
  {
   "cell_type": "code",
   "execution_count": null,
   "id": "36fe88a5-2d93-4cba-bb8e-1e43abd6a8c1",
   "metadata": {},
   "outputs": [],
   "source": [
    "2+3"
   ]
  },
  {
   "cell_type": "markdown",
   "id": "d9770731-db7f-420a-9940-119b2147225e",
   "metadata": {},
   "source": [
    "### 2. Comparision operators \n",
    "\n",
    "    Symbol  Task Performed\n",
    "\n",
    "    ==      true if it is equal\n",
    "    !=      true if not equal\n",
    "    <      \n",
    "    >\n",
    "    <= \n",
    "    >= "
   ]
  },
  {
   "cell_type": "code",
   "execution_count": 69,
   "id": "eb43973c-dd29-49be-ab4a-4e73332ea34b",
   "metadata": {},
   "outputs": [
    {
     "name": "stdout",
     "output_type": "stream",
     "text": [
      "Not equal\n"
     ]
    }
   ],
   "source": [
    "if 4 == \"4\":\n",
    "    print(\"equal\")\n",
    "else:\n",
    "    print(\"Not equal\")"
   ]
  },
  {
   "cell_type": "code",
   "execution_count": 70,
   "id": "15514d22-9dfe-4469-93d2-bf9c2b1440fc",
   "metadata": {},
   "outputs": [
    {
     "data": {
      "text/plain": [
       "False"
      ]
     },
     "execution_count": 70,
     "metadata": {},
     "output_type": "execute_result"
    }
   ],
   "source": [
    "4 > 5"
   ]
  },
  {
   "cell_type": "code",
   "execution_count": 71,
   "id": "65a8a840-02f1-4851-b1f5-e688eacd4130",
   "metadata": {},
   "outputs": [
    {
     "data": {
      "text/plain": [
       "True"
      ]
     },
     "execution_count": 71,
     "metadata": {},
     "output_type": "execute_result"
    }
   ],
   "source": [
    "\"awedq\" < \"az\""
   ]
  },
  {
   "cell_type": "code",
   "execution_count": 72,
   "id": "6e912792-7984-4e76-aeac-8137710a7116",
   "metadata": {},
   "outputs": [
    {
     "data": {
      "text/plain": [
       "False"
      ]
     },
     "execution_count": 72,
     "metadata": {},
     "output_type": "execute_result"
    }
   ],
   "source": [
    "\"abc\" == \"ab\""
   ]
  },
  {
   "cell_type": "code",
   "execution_count": 73,
   "id": "36428698-b0da-4511-b64a-2b85fd183d64",
   "metadata": {},
   "outputs": [
    {
     "data": {
      "text/plain": [
       "False"
      ]
     },
     "execution_count": 73,
     "metadata": {},
     "output_type": "execute_result"
    }
   ],
   "source": [
    "\"A\" > \"a\""
   ]
  },
  {
   "cell_type": "code",
   "execution_count": 74,
   "id": "416b69ff-6e3a-41ca-8b0f-64a287e2c50c",
   "metadata": {},
   "outputs": [
    {
     "data": {
      "text/plain": [
       "True"
      ]
     },
     "execution_count": 74,
     "metadata": {},
     "output_type": "execute_result"
    }
   ],
   "source": [
    "'a' == \"a\""
   ]
  },
  {
   "cell_type": "code",
   "execution_count": 75,
   "id": "334b1497-291d-4bef-9ba3-f820d866561b",
   "metadata": {},
   "outputs": [
    {
     "data": {
      "text/plain": [
       "'\\nawd\\n'"
      ]
     },
     "execution_count": 75,
     "metadata": {},
     "output_type": "execute_result"
    }
   ],
   "source": [
    "'''\n",
    "awd\n",
    "'''"
   ]
  },
  {
   "cell_type": "markdown",
   "id": "679569a1-8d68-4f43-b388-77272d04f913",
   "metadata": {},
   "source": [
    "### Ascii value function ord()"
   ]
  },
  {
   "cell_type": "code",
   "execution_count": 76,
   "id": "28ad16f3-87fe-4533-a523-0ce2b15c598d",
   "metadata": {},
   "outputs": [
    {
     "data": {
      "text/plain": [
       "97"
      ]
     },
     "execution_count": 76,
     "metadata": {},
     "output_type": "execute_result"
    }
   ],
   "source": [
    "ord('a')"
   ]
  },
  {
   "cell_type": "code",
   "execution_count": 77,
   "id": "ef0aa729-c3cb-4269-b967-7d49cb1124bb",
   "metadata": {},
   "outputs": [
    {
     "data": {
      "text/plain": [
       "65"
      ]
     },
     "execution_count": 77,
     "metadata": {},
     "output_type": "execute_result"
    }
   ],
   "source": [
    "ord(\"A\")"
   ]
  },
  {
   "cell_type": "code",
   "execution_count": 89,
   "id": "79ac612b-4fb0-404e-9798-a8bba6c005c2",
   "metadata": {},
   "outputs": [
    {
     "data": {
      "text/plain": [
       "10"
      ]
     },
     "execution_count": 89,
     "metadata": {},
     "output_type": "execute_result"
    }
   ],
   "source": [
    "ord('''\n",
    "''')"
   ]
  },
  {
   "cell_type": "markdown",
   "id": "12cb24a3-e847-4deb-bf62-e36a8972c877",
   "metadata": {},
   "source": [
    "## 3. Assignment operators\n",
    "## = , += , -= , *= , /= , %=  ,**= "
   ]
  },
  {
   "cell_type": "code",
   "execution_count": null,
   "id": "5bd90985-473f-4538-976e-b9db94469662",
   "metadata": {},
   "outputs": [],
   "source": [
    "a = 10"
   ]
  },
  {
   "cell_type": "code",
   "execution_count": null,
   "id": "73e0c456-8c00-474c-a4b7-35248a2c319a",
   "metadata": {},
   "outputs": [],
   "source": [
    "a += 5\n",
    "a"
   ]
  },
  {
   "cell_type": "code",
   "execution_count": 92,
   "id": "3d7b0b06-aa10-48d8-a6af-af3cdaa16f98",
   "metadata": {},
   "outputs": [
    {
     "name": "stdout",
     "output_type": "stream",
     "text": [
      "25\n"
     ]
    }
   ],
   "source": [
    "a = 5\n",
    "a **= 2\n",
    "print(a)"
   ]
  },
  {
   "cell_type": "markdown",
   "id": "5fa43974-b685-40fb-ba08-c35d03f571a3",
   "metadata": {},
   "source": [
    "### 4. Logial Operators\n",
    "### not, and, or"
   ]
  },
  {
   "cell_type": "code",
   "execution_count": 105,
   "id": "a9cc7e91-83ee-49c0-93d8-c7b5a59036ca",
   "metadata": {},
   "outputs": [
    {
     "name": "stdout",
     "output_type": "stream",
     "text": [
      "Ok\n"
     ]
    },
    {
     "data": {
      "text/plain": [
       "True"
      ]
     },
     "execution_count": 105,
     "metadata": {},
     "output_type": "execute_result"
    }
   ],
   "source": [
    "a = 2\n",
    "b = 5\n",
    "if not a!=2:\n",
    "    print(\"Ok\")\n",
    "a = True\n",
    "isinstance(True, object) # universal class\n",
    "isinstance(True, int) # parent class\n",
    "isinstance(True, bool) # original"
   ]
  },
  {
   "cell_type": "markdown",
   "id": "35f093c8-dae1-44b6-aa55-4965e58a321d",
   "metadata": {},
   "source": [
    "### isinstance() method is used to check instance of any value or variable "
   ]
  },
  {
   "cell_type": "code",
   "execution_count": null,
   "id": "8d5a7948-a5bb-44af-830b-7500ec8e8945",
   "metadata": {},
   "outputs": [],
   "source": [
    "type(True)"
   ]
  },
  {
   "cell_type": "markdown",
   "id": "a2d63933-a3c1-4656-a053-b0b0af84cce1",
   "metadata": {},
   "source": [
    "#### bool are inherited from int"
   ]
  },
  {
   "cell_type": "code",
   "execution_count": null,
   "id": "b7a9354f-e73e-4ccb-b4c8-462de54381f6",
   "metadata": {},
   "outputs": [],
   "source": [
    "not True"
   ]
  },
  {
   "cell_type": "code",
   "execution_count": null,
   "id": "5f697087-75d2-4813-b39d-a754b99f8064",
   "metadata": {},
   "outputs": [],
   "source": [
    "not False"
   ]
  },
  {
   "cell_type": "code",
   "execution_count": null,
   "id": "5666bbbe-fe07-4ad7-91fd-4242db9e0943",
   "metadata": {},
   "outputs": [],
   "source": [
    "True and True"
   ]
  },
  {
   "cell_type": "code",
   "execution_count": null,
   "id": "031b4e90-2f7e-48f0-b0e1-da8a7e28c12c",
   "metadata": {},
   "outputs": [],
   "source": [
    "False or True"
   ]
  },
  {
   "cell_type": "markdown",
   "id": "5100c213-0d10-4c64-9764-076427b02fb9",
   "metadata": {},
   "source": [
    "#### Truthy values are not absoulte true but can be consider as true value like +ve or -ve int\n",
    "#### Falsy value are not absoulte true but can be consider as false values 0, \"\", False"
   ]
  },
  {
   "cell_type": "code",
   "execution_count": 114,
   "id": "3eecf1dd-685a-46ef-8e1b-d23217044da4",
   "metadata": {},
   "outputs": [
    {
     "name": "stdout",
     "output_type": "stream",
     "text": [
      "ok\n"
     ]
    }
   ],
   "source": [
    "a = 23+324j\n",
    "if a:\n",
    "    print(\"ok\")"
   ]
  },
  {
   "cell_type": "code",
   "execution_count": null,
   "id": "bd04511f-dc6c-4888-ab35-e8d589d9e45c",
   "metadata": {},
   "outputs": [],
   "source": [
    "0 or 1"
   ]
  },
  {
   "cell_type": "markdown",
   "id": "2537ad81-055e-4bee-8dfe-27d1fc7ad784",
   "metadata": {},
   "source": [
    "## Functions "
   ]
  },
  {
   "cell_type": "code",
   "execution_count": null,
   "id": "6e56dcd5-9eca-4312-8e44-bd6d2d36067b",
   "metadata": {},
   "outputs": [],
   "source": [
    "# print sheldon knock \n",
    "print(\"knock knock knock ASHWANI SONI\")\n",
    "print(\"knock knock knock ASHWANI SONI\")\n",
    "print(\"knock knock knock ASHWANI SONI\")"
   ]
  },
  {
   "cell_type": "code",
   "execution_count": null,
   "id": "65596bb4-e51c-48b2-87b3-0c66ded70f52",
   "metadata": {},
   "outputs": [],
   "source": [
    "for i in range(3):\n",
    "    print(\"knock knock knock ASHWANI SONI\")"
   ]
  },
  {
   "cell_type": "code",
   "execution_count": null,
   "id": "8466f6f6-54be-4ac6-9f71-1ec9e4dda2ef",
   "metadata": {},
   "outputs": [],
   "source": [
    "def sheldon_knock():\n",
    "    print(\"knock knock knock ASHWANI SONI\")\n",
    "    print(\"knock knock knock ASHWANI SONI\")\n",
    "    print(\"knock knock knock ASHWANI SONI\")\n",
    "\n",
    "sheldon_knock()\n",
    "sheldon_knock()"
   ]
  },
  {
   "cell_type": "markdown",
   "id": "12af9948-1f0c-481e-b48c-73a02cf3752a",
   "metadata": {},
   "source": [
    "### functions can take parameters"
   ]
  },
  {
   "cell_type": "code",
   "execution_count": null,
   "id": "0491c08e-85cf-42a7-8cfd-d7b9e12cb809",
   "metadata": {},
   "outputs": [],
   "source": [
    "def sheldon_knock(name, number_of_times=3):\n",
    "    for i in range(number_of_times):\n",
    "        print(\"knock knock knock {}\".format(name))"
   ]
  },
  {
   "cell_type": "code",
   "execution_count": null,
   "id": "8e9f5665-8210-49f1-8ed8-78eecdd7aefc",
   "metadata": {},
   "outputs": [],
   "source": [
    "sheldon_knock(\"ASHWANI SONI\")\n",
    "sheldon_knock(\"ASHWANI SONI\", 5)\n"
   ]
  },
  {
   "cell_type": "markdown",
   "id": "2eb311ad-7c09-4e4b-923c-02b0f3ef39eb",
   "metadata": {},
   "source": [
    "### return statement"
   ]
  },
  {
   "cell_type": "code",
   "execution_count": null,
   "id": "8131a1a9-75a8-43d1-b30b-99679dfa5291",
   "metadata": {},
   "outputs": [],
   "source": [
    "def add(a, b):\n",
    "    print(a+b)"
   ]
  },
  {
   "cell_type": "code",
   "execution_count": null,
   "id": "275a7def-14e9-4e0a-999e-789f94695ca1",
   "metadata": {},
   "outputs": [],
   "source": [
    "add(3, 4)"
   ]
  },
  {
   "cell_type": "code",
   "execution_count": null,
   "id": "94c0bba5-b94d-4043-8b3c-e32d843296c8",
   "metadata": {},
   "outputs": [],
   "source": [
    "x = add(4, 65)\n",
    "print(x)"
   ]
  },
  {
   "cell_type": "code",
   "execution_count": null,
   "id": "a29eacd3-56f5-4c09-ba24-b4d39090726a",
   "metadata": {},
   "outputs": [],
   "source": [
    "def div(a, b):\n",
    "    try:\n",
    "        return a/b\n",
    "    except:\n",
    "        print(\"Error\")\n",
    "    finally:\n",
    "        print(\"Wrapping up\")"
   ]
  },
  {
   "cell_type": "code",
   "execution_count": null,
   "id": "fc31ab20-6127-490b-8c8b-f75f25d1b209",
   "metadata": {},
   "outputs": [],
   "source": [
    "div(10, 2)"
   ]
  },
  {
   "cell_type": "code",
   "execution_count": null,
   "id": "cbe39352-2865-4eda-8177-4a9d62ba76de",
   "metadata": {},
   "outputs": [],
   "source": [
    "div(10, 0)"
   ]
  },
  {
   "cell_type": "markdown",
   "id": "a055815b-182a-4556-8082-225a2bc7faef",
   "metadata": {},
   "source": [
    "## Local and Global variables"
   ]
  },
  {
   "cell_type": "code",
   "execution_count": null,
   "id": "193ffd25-cc4f-4d10-bff6-deac057ce141",
   "metadata": {},
   "outputs": [],
   "source": [
    "x = 10\n",
    "def show():\n",
    "    x += 5\n",
    "    print(x)"
   ]
  },
  {
   "cell_type": "code",
   "execution_count": null,
   "id": "7537cf2a-12f1-4697-b3a3-4d6863ac8177",
   "metadata": {},
   "outputs": [],
   "source": [
    "show()\n",
    "print(x)"
   ]
  },
  {
   "cell_type": "code",
   "execution_count": null,
   "id": "70797be4-0a73-42e8-8f5f-07a7455b37ce",
   "metadata": {},
   "outputs": [],
   "source": [
    "x = 10\n",
    "def show():\n",
    "    global x\n",
    "    x += 5\n",
    "    print(x)"
   ]
  },
  {
   "cell_type": "code",
   "execution_count": null,
   "id": "3847fadf-efda-4ebd-a1f9-2628dc41807c",
   "metadata": {},
   "outputs": [],
   "source": [
    "show()\n",
    "print(x)"
   ]
  },
  {
   "cell_type": "code",
   "execution_count": null,
   "id": "477130c1-f36e-4f92-a083-c4e9cfa1b54e",
   "metadata": {},
   "outputs": [],
   "source": [
    "var1 = 4\n",
    "def show1():\n",
    "    print(var1)\n",
    "    "
   ]
  },
  {
   "cell_type": "code",
   "execution_count": null,
   "id": "8d0f334b-57c5-4b72-81ad-fc9c3b45bb80",
   "metadata": {},
   "outputs": [],
   "source": [
    "show1()"
   ]
  },
  {
   "cell_type": "code",
   "execution_count": null,
   "id": "5c4f93c1-1e88-4f97-88c8-25fde4d13dfc",
   "metadata": {},
   "outputs": [],
   "source": [
    "del x"
   ]
  },
  {
   "cell_type": "code",
   "execution_count": null,
   "id": "e26c3922-7704-4c5b-aef0-3c65480d6952",
   "metadata": {},
   "outputs": [],
   "source": [
    "#enclosures\n",
    "def outer():\n",
    "    x = 10\n",
    "    def inner():\n",
    "        nonlocal x # not used global bcz it will see out of the function so nonlocal\n",
    "        x += 4\n",
    "        print(x)\n",
    "    inner()\n",
    "    print(x)\n"
   ]
  },
  {
   "cell_type": "code",
   "execution_count": null,
   "id": "d39b7407-9bfe-4d33-bd64-5cdb67b2f7e2",
   "metadata": {},
   "outputs": [],
   "source": [
    "outer()"
   ]
  },
  {
   "cell_type": "markdown",
   "id": "f01b4535-7b42-4005-9652-6889ceadd213",
   "metadata": {},
   "source": [
    "### Default argurement values"
   ]
  },
  {
   "cell_type": "code",
   "execution_count": null,
   "id": "c45bdce4-d6eb-4f20-a1ab-bf03d00bf8ac",
   "metadata": {},
   "outputs": [],
   "source": [
    "def show (a, b, c):\n",
    "    print(a)\n",
    "    print(b)\n",
    "    print(c)"
   ]
  },
  {
   "cell_type": "code",
   "execution_count": null,
   "id": "ffe55f31-f0e0-49a3-9b1e-80f730b896b4",
   "metadata": {},
   "outputs": [],
   "source": [
    "show(\"hello\", \"world\",\"python\")"
   ]
  },
  {
   "cell_type": "code",
   "execution_count": null,
   "id": "e519d8e3-eb9f-4edb-84a5-15819772ea02",
   "metadata": {},
   "outputs": [],
   "source": [
    "show(b = \"world\", c = \"hello\", a = \"youtube\")"
   ]
  },
  {
   "cell_type": "code",
   "execution_count": null,
   "id": "22add008-75c4-44e0-b3c8-f95ca195ffbc",
   "metadata": {},
   "outputs": [],
   "source": [
    "def show1(a, b, c, d = \"something\", e = \"something new\"):\n",
    "    print(a)\n",
    "    print(b)\n",
    "    print(c)\n",
    "    print(d)\n",
    "    print(e)"
   ]
  },
  {
   "cell_type": "code",
   "execution_count": null,
   "id": "58b82c45-ff48-4f8c-8605-01dceca3789f",
   "metadata": {},
   "outputs": [],
   "source": [
    "show1(\"hello\",\"world\", \"python\", e = \"ASHWNAI SONI\")"
   ]
  },
  {
   "attachments": {
    "04e301db-044d-485c-aeeb-3f36744f41e2.png": {
     "image/png": "[encoded data removed]"
    }
   },
   "cell_type": "markdown",
   "id": "58315070-a01f-4d75-abfb-90e400ca236d",
   "metadata": {},
   "source": [
    "![Screenshot 2023-09-05 at 6.14.54 PM.png](attachment:04e301db-044d-485c-aeeb-3f36744f41e2.png)"
   ]
  },
  {
   "cell_type": "code",
   "execution_count": null,
   "id": "6d694471-21fa-488c-b9bb-4e7992807223",
   "metadata": {},
   "outputs": [],
   "source": [
    "print(\"ASHWANI\", \"SONI\", \"IS a\", \"Competitive\", \"Programmer\")"
   ]
  },
  {
   "cell_type": "code",
   "execution_count": null,
   "id": "7a5942d8-a69e-468f-a990-bd7e269b71c1",
   "metadata": {},
   "outputs": [],
   "source": [
    "def show(*args): #positional arguements\n",
    "    print(args)\n",
    "    "
   ]
  },
  {
   "cell_type": "code",
   "execution_count": null,
   "id": "99d20c5b-455f-4bf8-b044-f6b0d815a971",
   "metadata": {},
   "outputs": [],
   "source": [
    "show()"
   ]
  },
  {
   "cell_type": "code",
   "execution_count": null,
   "id": "cc22ce4a-dcf1-4500-8f04-dc85a351bf39",
   "metadata": {},
   "outputs": [],
   "source": [
    "show(1, 2, 3, \"ASHWANI SONI\")"
   ]
  },
  {
   "cell_type": "code",
   "execution_count": null,
   "id": "70314f9a-bbea-4756-ae1c-61084cc5e03b",
   "metadata": {},
   "outputs": [],
   "source": [
    "def show(a, b, c, *args):\n",
    "    print(a)\n",
    "    print(b)\n",
    "    print(c)\n",
    "    print(args)"
   ]
  },
  {
   "cell_type": "code",
   "execution_count": null,
   "id": "68263026-0cb3-4a80-aaa7-abb3b0b5f620",
   "metadata": {},
   "outputs": [],
   "source": [
    "show(1, 2, 3, \"ASHWANI SONI\")"
   ]
  },
  {
   "cell_type": "markdown",
   "id": "c7a50c8f-04e8-492a-bb38-a6bc97ff0f62",
   "metadata": {},
   "source": [
    "### packing of arguements"
   ]
  },
  {
   "cell_type": "code",
   "execution_count": null,
   "id": "63a13402-9c23-44d1-beef-669afff95263",
   "metadata": {},
   "outputs": [],
   "source": [
    "def show(a, b, c, *args, d = 10 , e = 20):\n",
    "    print(a)\n",
    "    print(c)\n",
    "    print(args)\n",
    "    print(d)"
   ]
  },
  {
   "cell_type": "code",
   "execution_count": null,
   "id": "22a258b8-9b04-40c5-b5f6-fb84450553b8",
   "metadata": {},
   "outputs": [],
   "source": [
    "show(1, 2,3, \"jatin\", \"katyal\", d = 100, 59)"
   ]
  },
  {
   "cell_type": "code",
   "execution_count": null,
   "id": "8e5a5af5-0034-4955-b3d7-5de9f4181764",
   "metadata": {},
   "outputs": [],
   "source": [
    "show(1, 2,3, \"jatin\", \"katyal\", d = 100)"
   ]
  },
  {
   "cell_type": "markdown",
   "id": "79690cb0-7814-4105-8d88-8aa66d265aa7",
   "metadata": {},
   "source": [
    "### keyworded arguements"
   ]
  },
  {
   "cell_type": "code",
   "execution_count": null,
   "id": "0f97aede-1ebe-4af4-8c8e-fa9f715a3048",
   "metadata": {},
   "outputs": [],
   "source": [
    "def show(a, b, *args, d = 12, e = 3, **kwargs):\n",
    "    print(a)\n",
    "    print(args)\n",
    "    print(e)\n",
    "    print(kwargs)"
   ]
  },
  {
   "cell_type": "code",
   "execution_count": null,
   "id": "9ff3b032-a1e4-4db9-908e-0e3ee876f119",
   "metadata": {},
   "outputs": [],
   "source": [
    "show(2, 3, \"ASHWANI\", \"SONI\", e = 234, rank = 1)"
   ]
  },
  {
   "cell_type": "markdown",
   "id": "eeaa4c4a-a60d-4944-84a0-2898223ae387",
   "metadata": {},
   "source": [
    "### LAMBDA functions\n",
    "    Synatatical sugar"
   ]
  },
  {
   "cell_type": "code",
   "execution_count": null,
   "id": "08ac1229-75e7-4c9b-a6d3-3a7826c9d5e3",
   "metadata": {},
   "outputs": [],
   "source": [
    "def add(a, b):\n",
    "    return a +b"
   ]
  },
  {
   "cell_type": "code",
   "execution_count": null,
   "id": "879f8e1f-158f-460b-8ff4-b961771f0e98",
   "metadata": {},
   "outputs": [],
   "source": [
    "add = lambda a, b,: a+b"
   ]
  },
  {
   "cell_type": "code",
   "execution_count": null,
   "id": "0b69150a-afa5-42ce-94fd-4450ca3a9370",
   "metadata": {},
   "outputs": [],
   "source": [
    "add(1, 2)"
   ]
  },
  {
   "cell_type": "code",
   "execution_count": null,
   "id": "4505dd90-4c5e-4906-b03a-62cbdb1d89c2",
   "metadata": {},
   "outputs": [],
   "source": [
    "del a"
   ]
  },
  {
   "cell_type": "code",
   "execution_count": null,
   "id": "a373bd89-2d69-4a9b-be2a-7748d0e36fc3",
   "metadata": {},
   "outputs": [],
   "source": [
    "a = [5, 3, 2, 7, 1, 2, 3]"
   ]
  },
  {
   "cell_type": "code",
   "execution_count": null,
   "id": "f94f743f-c8bc-41b1-ab90-b825632a4854",
   "metadata": {},
   "outputs": [],
   "source": [
    "sorted(a)"
   ]
  },
  {
   "cell_type": "code",
   "execution_count": null,
   "id": "7a728bc7-a443-4d40-a6ae-f51338e8db27",
   "metadata": {},
   "outputs": [],
   "source": [
    "a = [ (\"SONI\", 2), (\"ASHWANI\", 7)]"
   ]
  },
  {
   "cell_type": "code",
   "execution_count": null,
   "id": "de78eb95-0ced-4a84-ae7c-cc313dccfeeb",
   "metadata": {},
   "outputs": [],
   "source": [
    "sorted(a)"
   ]
  },
  {
   "cell_type": "code",
   "execution_count": null,
   "id": "867d85a2-3172-45c0-b4a0-096fd5fddce6",
   "metadata": {},
   "outputs": [],
   "source": [
    "sorted(a, key = lambda x: x[1]) # key is formal parameter"
   ]
  },
  {
   "cell_type": "markdown",
   "id": "99da2cc6-b2bd-4eab-8591-2a878e5b8474",
   "metadata": {},
   "source": [
    "## Decorators"
   ]
  },
  {
   "cell_type": "code",
   "execution_count": null,
   "id": "0ce87aa7-4e1b-4053-9af4-d74d63814f3e",
   "metadata": {},
   "outputs": [],
   "source": [
    "users = {\n",
    "    \"ASHWANI\": \"SONI\"\n",
    "}"
   ]
  },
  {
   "cell_type": "code",
   "execution_count": null,
   "id": "82c5df60-9a16-4741-b5d4-3e3c7d3db8e3",
   "metadata": {},
   "outputs": [],
   "source": [
    "def show(username, password):\n",
    "    if username in users and users[username] == password:\n",
    "        print(\"Hello World\")\n",
    "    else:\n",
    "        print(\"Not Authenticated\")"
   ]
  },
  {
   "cell_type": "code",
   "execution_count": null,
   "id": "7a547488-4ee3-4db2-8bde-a5742ae639f1",
   "metadata": {},
   "outputs": [],
   "source": [
    "show(\"ASHWANI\", \"SONI\")"
   ]
  },
  {
   "cell_type": "code",
   "execution_count": null,
   "id": "b4147cb3-d260-411e-a7f9-3d9b96becf83",
   "metadata": {},
   "outputs": [],
   "source": [
    "show(\"ashwani\", \"soni\")"
   ]
  },
  {
   "cell_type": "code",
   "execution_count": null,
   "id": "19334bc8-dd41-4390-a0da-236ef137de95",
   "metadata": {},
   "outputs": [],
   "source": [
    "def add(username,password, a, b):\n",
    "    if username in users and users[username] == password:\n",
    "        print(a+b)\n",
    "    else:\n",
    "        print(\"Not Authenticated\")\n",
    "    "
   ]
  },
  {
   "cell_type": "code",
   "execution_count": null,
   "id": "fcacfd50-a387-4abb-816f-b846a1a1812d",
   "metadata": {},
   "outputs": [],
   "source": [
    "add(\"asda\", \"asfa\", 2, 3)\n"
   ]
  },
  {
   "cell_type": "code",
   "execution_count": null,
   "id": "71c6f785-63d6-410a-ae32-3010fad07fe6",
   "metadata": {},
   "outputs": [],
   "source": [
    "add(\"ASHWANI\", \"SONI\", 3, 5)"
   ]
  },
  {
   "cell_type": "code",
   "execution_count": null,
   "id": "fec58110-484b-410c-8da4-c65d0bea9583",
   "metadata": {},
   "outputs": [],
   "source": []
  },
  {
   "cell_type": "code",
   "execution_count": null,
   "id": "3d6b8bb8-7869-4757-8120-7b51ac5576a2",
   "metadata": {},
   "outputs": [],
   "source": [
    "def temp(*args, **kwargs):\n",
    "    print(args)\n",
    "    print(*args)"
   ]
  },
  {
   "cell_type": "code",
   "execution_count": null,
   "id": "8b1fe074-c4c5-4bc4-90d3-4a726d425e4a",
   "metadata": {},
   "outputs": [],
   "source": [
    "temp(2, 3, 4)"
   ]
  },
  {
   "cell_type": "markdown",
   "id": "4dece112-f304-43a4-922c-597f248e9e51",
   "metadata": {},
   "source": [
    "#### note: *args split the tuple into individual arguements"
   ]
  },
  {
   "cell_type": "code",
   "execution_count": null,
   "id": "4e5bc488-0ff3-4d1b-870d-ab0d4643f612",
   "metadata": {},
   "outputs": [],
   "source": [
    "def login_requested(func):\n",
    "    def wrapper(username, password, *args, **kwargs):\n",
    "        if username in users and users[username] == password:\n",
    "            func(*args, **kwargs)\n",
    "        else:\n",
    "            print(\"Not Authenticated\")\n",
    "    return wrapper"
   ]
  },
  {
   "cell_type": "code",
   "execution_count": null,
   "id": "08665f32-c17b-414b-baa7-8e4c86df8e62",
   "metadata": {},
   "outputs": [],
   "source": [
    "def add(a, b):\n",
    "    print(a+b)"
   ]
  },
  {
   "cell_type": "code",
   "execution_count": null,
   "id": "9017e9a4-dd0a-4588-ab2d-f2dca3255a12",
   "metadata": {},
   "outputs": [],
   "source": [
    "add(1, 3)"
   ]
  },
  {
   "cell_type": "code",
   "execution_count": null,
   "id": "c71949a1-7350-4601-b698-c5477158360b",
   "metadata": {},
   "outputs": [],
   "source": [
    "protected_add = login_requested(add)"
   ]
  },
  {
   "cell_type": "code",
   "execution_count": null,
   "id": "12738a0d-2108-40e7-931a-795f56e78ac5",
   "metadata": {},
   "outputs": [],
   "source": [
    "type(protected_add)"
   ]
  },
  {
   "cell_type": "code",
   "execution_count": null,
   "id": "77ad6d5c-56f7-4dce-a238-6364ebf35ed0",
   "metadata": {},
   "outputs": [],
   "source": [
    "protected_add(\"ASHWANI\",\"SONI\", 1, 2)"
   ]
  },
  {
   "cell_type": "code",
   "execution_count": null,
   "id": "0556980c-47a1-413c-bf54-15b8e1a30e00",
   "metadata": {},
   "outputs": [],
   "source": [
    "add = login_requested(add)"
   ]
  },
  {
   "cell_type": "code",
   "execution_count": null,
   "id": "71bd60a1-078b-4a0f-b2c7-972c9a63eb66",
   "metadata": {},
   "outputs": [],
   "source": [
    "@login_requested\n",
    "def add(a, b):\n",
    "    print(a+b)"
   ]
  },
  {
   "cell_type": "markdown",
   "id": "cae40890-9359-491b-9dcd-c265764f188d",
   "metadata": {},
   "source": [
    "# Data Structures in Python : ^ )"
   ]
  },
  {
   "cell_type": "markdown",
   "id": "2d5dc7e6-1182-497c-a5af-fc00ea3746f7",
   "metadata": {},
   "source": [
    " ### Mutable :\n",
    "    - List\n",
    "    - Dict\n",
    "    - Set"
   ]
  },
  {
   "cell_type": "markdown",
   "id": "81d344a4-f9c1-4d7e-a6ed-f98a4cbab3b5",
   "metadata": {},
   "source": [
    "### Strings\n",
    "    Collection of characters \n",
    "\n",
    "python follows UTF - 8"
   ]
  },
  {
   "cell_type": "code",
   "execution_count": null,
   "id": "929410a0-53ab-42b2-8cbe-7075453517c1",
   "metadata": {},
   "outputs": [],
   "source": [
    "a = \"ASHWANI\""
   ]
  },
  {
   "cell_type": "code",
   "execution_count": null,
   "id": "a364d83d-bd52-4e44-b8da-d51a7d111211",
   "metadata": {},
   "outputs": [],
   "source": [
    "print(a)"
   ]
  },
  {
   "cell_type": "code",
   "execution_count": null,
   "id": "0bcb856b-a104-4e30-a10f-bfadc20529bc",
   "metadata": {},
   "outputs": [],
   "source": [
    "a = '''\n",
    "    this is a \n",
    "    multi line \n",
    "    string\n",
    "'''"
   ]
  },
  {
   "cell_type": "code",
   "execution_count": null,
   "id": "1027918f-0e66-48d9-a084-4b84888fbc74",
   "metadata": {},
   "outputs": [],
   "source": [
    "a"
   ]
  },
  {
   "cell_type": "code",
   "execution_count": null,
   "id": "7bc73b1e-45b3-45f4-85db-3e2aba74dfc9",
   "metadata": {},
   "outputs": [],
   "source": [
    "ord('A')"
   ]
  },
  {
   "cell_type": "code",
   "execution_count": null,
   "id": "58d49172-6e79-4fd0-a447-e11c160347d5",
   "metadata": {},
   "outputs": [],
   "source": [
    "chr(65)"
   ]
  },
  {
   "cell_type": "markdown",
   "id": "8f4a2ad3-1b19-4465-9ab5-bdc36f4c0f06",
   "metadata": {},
   "source": [
    "#### chr() and ord() function for int to ascii and vice versa"
   ]
  },
  {
   "cell_type": "markdown",
   "id": "c24cc54d-d14d-4fc8-9e2b-c49a4192a64e",
   "metadata": {},
   "source": [
    "### Some strinf operations first!\n",
    "    format, strip, replace, count..."
   ]
  },
  {
   "cell_type": "code",
   "execution_count": null,
   "id": "e59c846c-7c72-47bc-bbda-385d72db6a8d",
   "metadata": {},
   "outputs": [],
   "source": [
    "a = 1\n",
    "b = 2\n",
    "c = 3"
   ]
  },
  {
   "cell_type": "code",
   "execution_count": null,
   "id": "89121f41-32e6-4f37-a069-e02de2513c41",
   "metadata": {},
   "outputs": [],
   "source": [
    "print(str(a) + \"-\" + str(b) + \"-\" + str(c))"
   ]
  },
  {
   "cell_type": "markdown",
   "id": "4012d823-933c-43dc-b75e-b1bac5633942",
   "metadata": {},
   "source": [
    "#### Note: how to format string in integer"
   ]
  },
  {
   "cell_type": "code",
   "execution_count": null,
   "id": "89c6867d-0b66-45f0-b34a-2eafe60b0984",
   "metadata": {},
   "outputs": [],
   "source": [
    "print(\"%d-%d-%d\"%(a, b, c))"
   ]
  },
  {
   "cell_type": "code",
   "execution_count": null,
   "id": "42505674-4718-437e-81ca-7486251e8212",
   "metadata": {},
   "outputs": [],
   "source": [
    "print(\"{}-{}-{}\".format(a, b, c))"
   ]
  },
  {
   "cell_type": "code",
   "execution_count": null,
   "id": "156af000-be19-4b50-97ea-6548646b73c6",
   "metadata": {},
   "outputs": [],
   "source": [
    "a = \"ASHWANI\""
   ]
  },
  {
   "cell_type": "code",
   "execution_count": null,
   "id": "d50a02e1-8773-4f78-bf4e-c7b2846647e6",
   "metadata": {},
   "outputs": [],
   "source": [
    "print(\"{1}-{0}-{2}\".format(a, b, c))"
   ]
  },
  {
   "cell_type": "code",
   "execution_count": null,
   "id": "b9fa2f9d-9b14-4d2f-a73b-2cbfc73d3487",
   "metadata": {},
   "outputs": [],
   "source": [
    "print(\"{lastname}, {firstname}\".format(firstname = \"ASHWANI\", lastname = \"SONI\"))"
   ]
  },
  {
   "cell_type": "markdown",
   "id": "5bea891d-7e68-489a-9d20-4734892e6e0d",
   "metadata": {},
   "source": [
    "### Note: formating easier way"
   ]
  },
  {
   "cell_type": "code",
   "execution_count": null,
   "id": "855678f1-338a-4b6a-b6bd-8eee8d63850b",
   "metadata": {},
   "outputs": [],
   "source": [
    "firstname = \"ASHWANI\"\n",
    "lastname = \"SONI\""
   ]
  },
  {
   "cell_type": "code",
   "execution_count": null,
   "id": "8f4f2375-899c-4a22-887c-394cb5153655",
   "metadata": {},
   "outputs": [],
   "source": [
    "print(f\"{lastname}, {firstname}\")"
   ]
  },
  {
   "cell_type": "code",
   "execution_count": null,
   "id": "f93d7dd5-8143-49a9-b3e3-fa4b324eaa68",
   "metadata": {},
   "outputs": [],
   "source": [
    "a = \"   ASHWANI SONI\""
   ]
  },
  {
   "cell_type": "code",
   "execution_count": null,
   "id": "f930251e-5c17-428e-9cf0-f50b16912e73",
   "metadata": {},
   "outputs": [],
   "source": [
    "a.strip() == \"ASHWANI SONI\""
   ]
  },
  {
   "cell_type": "code",
   "execution_count": null,
   "id": "06183cae-d08d-4864-a30b-5534f655f303",
   "metadata": {
    "scrolled": true
   },
   "outputs": [],
   "source": [
    "a = input()"
   ]
  },
  {
   "cell_type": "code",
   "execution_count": null,
   "id": "90606082-b919-4c8b-a3cf-a4953c2881a7",
   "metadata": {},
   "outputs": [],
   "source": [
    "a"
   ]
  },
  {
   "cell_type": "code",
   "execution_count": null,
   "id": "a2f3c374-ccf8-4e6c-bb72-e733cb8c4fea",
   "metadata": {},
   "outputs": [],
   "source": [
    "a.split(' ')"
   ]
  },
  {
   "cell_type": "code",
   "execution_count": null,
   "id": "c0fa31d4-1cef-4d5f-8f67-b70d6c35cb0a",
   "metadata": {},
   "outputs": [],
   "source": [
    "a = \"ASHWANI\""
   ]
  },
  {
   "cell_type": "code",
   "execution_count": null,
   "id": "797c74ea-a4b0-4d4b-aa60-928a94c73cf2",
   "metadata": {},
   "outputs": [],
   "source": [
    "a[0] = '1'"
   ]
  },
  {
   "cell_type": "code",
   "execution_count": null,
   "id": "8c970034-9a49-4947-80c2-da77d163cf2b",
   "metadata": {},
   "outputs": [],
   "source": [
    "a.replace('A', '1')"
   ]
  },
  {
   "cell_type": "code",
   "execution_count": null,
   "id": "94c1a0b3-11ce-42e5-8177-020e056aa1f0",
   "metadata": {},
   "outputs": [],
   "source": [
    "a.count('1')"
   ]
  },
  {
   "cell_type": "code",
   "execution_count": null,
   "id": "1913b3e9-074f-470d-92ee-db0d07b3f75e",
   "metadata": {},
   "outputs": [],
   "source": [
    "a"
   ]
  },
  {
   "cell_type": "code",
   "execution_count": null,
   "id": "1f8997dd-b964-4675-8872-cb39ed8ca075",
   "metadata": {},
   "outputs": [],
   "source": [
    "a.count('A')"
   ]
  },
  {
   "cell_type": "code",
   "execution_count": null,
   "id": "d7a1ed99-9c99-4e9e-b850-392d8e9a36de",
   "metadata": {},
   "outputs": [],
   "source": [
    "a = 'aabbbbcccc'"
   ]
  },
  {
   "cell_type": "code",
   "execution_count": null,
   "id": "156c0733-061e-4552-a967-2285b0c66068",
   "metadata": {},
   "outputs": [],
   "source": [
    "a.count('aa')"
   ]
  },
  {
   "cell_type": "markdown",
   "id": "fa69f6bf-06c9-426b-bfcd-0aea5f078108",
   "metadata": {},
   "source": [
    "### Lists"
   ]
  },
  {
   "cell_type": "code",
   "execution_count": null,
   "id": "9da6de85-9919-4107-99f9-dda59999bf83",
   "metadata": {},
   "outputs": [],
   "source": [
    "a = [\"ASHWANI\", 1, 2, print]"
   ]
  },
  {
   "cell_type": "code",
   "execution_count": null,
   "id": "039ee252-536e-4b0d-b52c-070f1ec8346e",
   "metadata": {},
   "outputs": [],
   "source": [
    "a[0]"
   ]
  },
  {
   "cell_type": "code",
   "execution_count": null,
   "id": "23f5f3e7-01d1-4640-a149-f8acfdd01c3d",
   "metadata": {},
   "outputs": [],
   "source": [
    "a[3](\"hello world\")"
   ]
  },
  {
   "cell_type": "markdown",
   "id": "b3f94e0d-c6af-4943-8edf-b4f946d3d8bb",
   "metadata": {},
   "source": [
    "### replicate string "
   ]
  },
  {
   "cell_type": "code",
   "execution_count": null,
   "id": "b5d0c4f1-3d44-4ce3-a198-ad09d7f4d81f",
   "metadata": {},
   "outputs": [],
   "source": [
    "a = [\"hi\"] * 4\n",
    "a"
   ]
  },
  {
   "cell_type": "code",
   "execution_count": null,
   "id": "3a818230-6d5e-4cff-8bef-9c9046d79cfd",
   "metadata": {},
   "outputs": [],
   "source": [
    "len(a)"
   ]
  },
  {
   "cell_type": "code",
   "execution_count": null,
   "id": "8262e25c-f394-4ff9-aed6-500bb70bb9d2",
   "metadata": {},
   "outputs": [],
   "source": [
    "a += a\n",
    "a"
   ]
  },
  {
   "cell_type": "code",
   "execution_count": null,
   "id": "016e5032-fa5b-40d5-9bb8-d9f0e5ff9782",
   "metadata": {},
   "outputs": [],
   "source": [
    "for x in a:\n",
    "    print(x)"
   ]
  },
  {
   "cell_type": "code",
   "execution_count": null,
   "id": "ed403c35-cb9b-48db-bcca-c9d92c8f05a0",
   "metadata": {},
   "outputs": [],
   "source": [
    "a = [1,2, 3, 4, 5]"
   ]
  },
  {
   "cell_type": "code",
   "execution_count": null,
   "id": "88c7874e-9802-4233-96c1-6d2a191fd292",
   "metadata": {},
   "outputs": [],
   "source": [
    "a[1:4]"
   ]
  },
  {
   "cell_type": "code",
   "execution_count": null,
   "id": "f35bd84d-af53-4635-b69c-f2915986c94f",
   "metadata": {},
   "outputs": [],
   "source": [
    "a[0:5:2] # start from 0 go till 5 make jump of 5"
   ]
  },
  {
   "cell_type": "code",
   "execution_count": null,
   "id": "37e8e7b2-7d8e-4e0a-85bd-72aa11bd9100",
   "metadata": {},
   "outputs": [],
   "source": [
    "a[::-1]"
   ]
  },
  {
   "cell_type": "code",
   "execution_count": null,
   "id": "6ab2c584-9902-4bca-9be1-89c1a4cc47af",
   "metadata": {},
   "outputs": [],
   "source": [
    "a[:]"
   ]
  },
  {
   "cell_type": "code",
   "execution_count": null,
   "id": "28e218a6-1ff4-487e-9036-57f5bdfaef47",
   "metadata": {},
   "outputs": [],
   "source": [
    "a = \"nitin\""
   ]
  },
  {
   "cell_type": "code",
   "execution_count": null,
   "id": "f2239132-b828-4787-a3c8-1ba8bba27507",
   "metadata": {},
   "outputs": [],
   "source": [
    "a == a[::-1]"
   ]
  },
  {
   "cell_type": "markdown",
   "id": "f7823266-6f13-4031-a35c-6b2ca3605454",
   "metadata": {},
   "source": [
    "### Updating the list\n",
    " - insert\n",
    " - append"
   ]
  },
  {
   "cell_type": "code",
   "execution_count": null,
   "id": "468b6135-c40c-4cdc-8660-ecb6fa98bcb8",
   "metadata": {},
   "outputs": [],
   "source": [
    "a = [1, 2, 3, 4, 5]"
   ]
  },
  {
   "cell_type": "code",
   "execution_count": null,
   "id": "b848abd8-6103-4b81-8db7-3ba07cb7ecf7",
   "metadata": {},
   "outputs": [],
   "source": [
    "a.insert(1, 'ASHWANI')"
   ]
  },
  {
   "cell_type": "code",
   "execution_count": null,
   "id": "0f180f80-644a-40cc-a0cc-8b48c764dd99",
   "metadata": {},
   "outputs": [],
   "source": [
    "a"
   ]
  },
  {
   "cell_type": "code",
   "execution_count": null,
   "id": "0e848e67-a01c-4a71-bc0d-7070865a4443",
   "metadata": {},
   "outputs": [],
   "source": [
    "a.append(\"SONI\")\n",
    "a"
   ]
  },
  {
   "cell_type": "code",
   "execution_count": null,
   "id": "fce75f65-5835-48d4-9226-3aeccb3192ca",
   "metadata": {},
   "outputs": [],
   "source": [
    "a = [1, 2, 3, 4, 5]"
   ]
  },
  {
   "cell_type": "code",
   "execution_count": null,
   "id": "7f88907e-5e7c-41f4-9d5f-cd0338a13bcf",
   "metadata": {},
   "outputs": [],
   "source": [
    "a.pop()"
   ]
  },
  {
   "cell_type": "code",
   "execution_count": null,
   "id": "50560818-2ddb-4f51-97e1-2b10cfb54124",
   "metadata": {},
   "outputs": [],
   "source": [
    "a.pop(1)"
   ]
  },
  {
   "cell_type": "code",
   "execution_count": null,
   "id": "b30f3690-98e5-4cbf-8d52-a7236fbc4931",
   "metadata": {},
   "outputs": [],
   "source": [
    "a"
   ]
  },
  {
   "cell_type": "code",
   "execution_count": null,
   "id": "c0d14f7d-fdbd-42a4-b902-8cb4b418fc4c",
   "metadata": {},
   "outputs": [],
   "source": [
    "a.remove(3) # removes first occurences"
   ]
  },
  {
   "cell_type": "markdown",
   "id": "cfa8f6d3-502a-4adc-867f-5e8467fee0b6",
   "metadata": {},
   "source": [
    "### Tuples"
   ]
  },
  {
   "cell_type": "code",
   "execution_count": null,
   "id": "5c278cab-ec3b-4d52-986e-758b863e0822",
   "metadata": {},
   "outputs": [],
   "source": [
    "a = [1, 2,3, 4]"
   ]
  },
  {
   "cell_type": "code",
   "execution_count": null,
   "id": "c6e34471-5b40-42b8-9e46-ef7f4133c0f3",
   "metadata": {},
   "outputs": [],
   "source": [
    "a[0]= 1"
   ]
  },
  {
   "cell_type": "code",
   "execution_count": null,
   "id": "ef6791cc-b989-4758-88f4-cbb7734c5eb0",
   "metadata": {},
   "outputs": [],
   "source": [
    "id(a)"
   ]
  },
  {
   "cell_type": "markdown",
   "id": "1aae07e6-21d6-4d65-bd52-7c550116e96b",
   "metadata": {},
   "source": [
    "### tuple are fast take less memory"
   ]
  },
  {
   "cell_type": "code",
   "execution_count": null,
   "id": "a2332168-abe0-4c17-9320-c9c8ec3ad246",
   "metadata": {},
   "outputs": [],
   "source": [
    "def func(*args):\n",
    "    print(args)"
   ]
  },
  {
   "cell_type": "code",
   "execution_count": null,
   "id": "cf79a8af-c0ce-48fe-a82b-b83f7d28da0e",
   "metadata": {},
   "outputs": [],
   "source": [
    "func(1, 2, 3, 4)"
   ]
  },
  {
   "cell_type": "code",
   "execution_count": null,
   "id": "19f5b6b1-75be-491b-a1fe-2a5981c14c13",
   "metadata": {},
   "outputs": [],
   "source": [
    "a, b = 5, 9"
   ]
  },
  {
   "cell_type": "code",
   "execution_count": null,
   "id": "6d446e4a-d037-433a-804b-7cb9a63a9aeb",
   "metadata": {},
   "outputs": [],
   "source": [
    "a = a+b\n",
    "b = a-b\n",
    "a = a-b"
   ]
  },
  {
   "cell_type": "code",
   "execution_count": null,
   "id": "f7c46313-5da6-4a4d-b745-4a255902c8a7",
   "metadata": {},
   "outputs": [],
   "source": [
    "print(a, b)"
   ]
  },
  {
   "cell_type": "code",
   "execution_count": null,
   "id": "2daad3ef-62c5-484c-a77f-ac76da5e79ab",
   "metadata": {},
   "outputs": [],
   "source": [
    "a = 1, 2"
   ]
  },
  {
   "cell_type": "code",
   "execution_count": null,
   "id": "1a07d9a1-fece-41c6-a9ed-8d9352a216a9",
   "metadata": {},
   "outputs": [],
   "source": [
    "c, d = a  # while unpacking no of values must be same"
   ]
  },
  {
   "cell_type": "code",
   "execution_count": null,
   "id": "0b44f1ce-617e-4070-a850-91ed11d626f5",
   "metadata": {},
   "outputs": [],
   "source": [
    "print(c, d)"
   ]
  },
  {
   "cell_type": "code",
   "execution_count": null,
   "id": "b63611c6-f42d-4384-8ffb-019c845e486f",
   "metadata": {},
   "outputs": [],
   "source": [
    "b, a = a, b"
   ]
  },
  {
   "cell_type": "markdown",
   "id": "0edf4837-d309-42cb-9588-58b91393c8d1",
   "metadata": {},
   "source": [
    "### List to tuple and tuple to list"
   ]
  },
  {
   "cell_type": "code",
   "execution_count": null,
   "id": "9c8b4357-0dc1-41d1-8d3e-707227dad3a4",
   "metadata": {},
   "outputs": [],
   "source": [
    "a = (1,2 ,3)"
   ]
  },
  {
   "cell_type": "code",
   "execution_count": null,
   "id": "118f3934-47bf-4783-9b98-4a0d5090e40b",
   "metadata": {},
   "outputs": [],
   "source": [
    "a = list(\"ASHWANI\")"
   ]
  },
  {
   "cell_type": "code",
   "execution_count": null,
   "id": "1e9648e5-1001-4bbb-a333-9b147ad69164",
   "metadata": {},
   "outputs": [],
   "source": [
    "a"
   ]
  },
  {
   "cell_type": "code",
   "execution_count": null,
   "id": "4ffd5eda-030f-4f2c-8b0d-db82cedf6883",
   "metadata": {},
   "outputs": [],
   "source": [
    "a = tuple(a)"
   ]
  },
  {
   "cell_type": "code",
   "execution_count": null,
   "id": "29b2ad11-4379-452a-abd1-bb2134e9a374",
   "metadata": {},
   "outputs": [],
   "source": [
    "a"
   ]
  },
  {
   "cell_type": "markdown",
   "id": "7f4eb536-c9b9-4b5c-95a7-44da7dc31a9c",
   "metadata": {},
   "source": [
    "### Returning multiple values from functions(The returned thing is a tuple!)"
   ]
  },
  {
   "cell_type": "code",
   "execution_count": null,
   "id": "c7f86363-3d73-44d2-841a-391e33860d21",
   "metadata": {},
   "outputs": [],
   "source": [
    "def addSubtract(a, b):\n",
    "    return a+b, a - b"
   ]
  },
  {
   "cell_type": "code",
   "execution_count": null,
   "id": "92490d0f-3c2a-47bd-950a-1ab466c85ed3",
   "metadata": {},
   "outputs": [],
   "source": [
    "sum, diff = addSubtract(3, 4)"
   ]
  },
  {
   "cell_type": "code",
   "execution_count": null,
   "id": "4a41fb8f-6889-463a-9c48-56b0db8de6b8",
   "metadata": {},
   "outputs": [],
   "source": [
    "print(sum ,  diff)"
   ]
  },
  {
   "cell_type": "markdown",
   "id": "2dc94b88-e80e-4ab1-a1e2-8248a4997dde",
   "metadata": {},
   "source": [
    "## Operation on List and Tuple\n",
    "- [Link - https://manavrachnauniversity.sharepoint.com/sites/courses/Shared%20Documents/Forms/AllItems.aspx?id=%2Fsites%2Fcourses%2FShared%20Documents%2FMachine%20Learning%2FML%2D20230316T091847Z%2D001%2FML%2F4%2E%20Python%2003%20%2D%20Builtin%20Data%20Structures%2F6%2E%20Python%20%2D%20Sequences%20%5BPDF%5D%2Epdf&viewid=e36a5953%2D41d5%2D4018%2D9203%2D30e917303736&parent=%2Fsites%2Fcourses%2FShared%20Documents%2FMachine%20Learning%2FML%2D20230316T091847Z%2D001%2FML%2F4%2E%20Python%2003%20%2D%20Builtin%20Data%20Structures]"
   ]
  },
  {
   "cell_type": "markdown",
   "id": "5d6c06f1-a619-497b-a66e-6c849efa126b",
   "metadata": {},
   "source": [
    "### Dictionary"
   ]
  },
  {
   "cell_type": "markdown",
   "id": "29ef9ac4-1cfd-4378-a336-a917ff88a5ef",
   "metadata": {},
   "source": [
    "#### list and tuple are ordered data structures\n",
    "#### Dictionary are unordered"
   ]
  },
  {
   "cell_type": "code",
   "execution_count": null,
   "id": "eed30521-4aa3-4bb1-9f6c-745e352478d0",
   "metadata": {},
   "outputs": [],
   "source": [
    "a = {\n",
    "    \"name\": 7,\n",
    "    \"marks\": \"ASHWANI\",\n",
    "    \"friends\":{\n",
    "        \"android\":\"google\"\n",
    "    }\n",
    "}"
   ]
  },
  {
   "cell_type": "code",
   "execution_count": null,
   "id": "38c8d004-f5af-4047-801e-059990781467",
   "metadata": {},
   "outputs": [],
   "source": [
    "a[\"name\"]"
   ]
  },
  {
   "cell_type": "code",
   "execution_count": null,
   "id": "6ad22691-687f-44bc-803b-593e98160a94",
   "metadata": {},
   "outputs": [],
   "source": [
    "a[\"friends\"]"
   ]
  },
  {
   "cell_type": "code",
   "execution_count": null,
   "id": "04f3b11d-591e-4b7b-967a-743571dd3bff",
   "metadata": {},
   "outputs": [],
   "source": [
    "a[\"friends\"][\"android\"]"
   ]
  },
  {
   "cell_type": "code",
   "execution_count": null,
   "id": "35f74187-6493-4014-84ad-1e971fa48ad9",
   "metadata": {},
   "outputs": [],
   "source": [
    "for key in a:\n",
    "    print(key)"
   ]
  },
  {
   "cell_type": "markdown",
   "id": "9efb2aad-53df-40ea-919b-70419150f25a",
   "metadata": {},
   "source": [
    "### Some imp dict methods\n",
    " - get()\n",
    " - items()\n",
    " - keys()\n",
    " - values()\n",
    " - clear()"
   ]
  },
  {
   "cell_type": "code",
   "execution_count": null,
   "id": "fe4d77ca-fa51-449f-98d1-acf942b3ce65",
   "metadata": {},
   "outputs": [],
   "source": [
    "for key, value in a.items():\n",
    "    print(key, value)"
   ]
  },
  {
   "cell_type": "code",
   "execution_count": null,
   "id": "b4deb0f3-b41d-4f78-828b-8ef99f5b4c60",
   "metadata": {},
   "outputs": [],
   "source": [
    "for key in a.keys():\n",
    "    print(key)"
   ]
  },
  {
   "cell_type": "code",
   "execution_count": null,
   "id": "4eb7bfff-828d-47bf-acfe-2697f01a33da",
   "metadata": {},
   "outputs": [],
   "source": [
    "for x in a.values():\n",
    "    print(x)"
   ]
  },
  {
   "cell_type": "code",
   "execution_count": null,
   "id": "8bb6c1b4-025f-4ba1-98f6-2d70cc08313b",
   "metadata": {},
   "outputs": [],
   "source": [
    "a.get(\"name\")"
   ]
  },
  {
   "cell_type": "code",
   "execution_count": null,
   "id": "a452438a-9819-4748-a63e-d447df531541",
   "metadata": {},
   "outputs": [],
   "source": [
    "a.get(\"Doesn't exist\") # safe method return None"
   ]
  },
  {
   "cell_type": "code",
   "execution_count": null,
   "id": "7c48a6e5-1094-4845-9a0a-a7762af6cd18",
   "metadata": {},
   "outputs": [],
   "source": [
    "List = []\n",
    "n = int(input())\n",
    "for x in range(n):\n",
    "    roll, name, branch = int(input()), input(), input()\n",
    "    List.append({\n",
    "        \"roll-no\": roll,\n",
    "        \"name\": name,\n",
    "        \"branch\": branch\n",
    "    })"
   ]
  },
  {
   "cell_type": "code",
   "execution_count": null,
   "id": "16eea6d6-27bb-4752-b6c8-d076e1ea470a",
   "metadata": {},
   "outputs": [],
   "source": [
    "List"
   ]
  },
  {
   "cell_type": "markdown",
   "id": "2ae54205-0d06-42a3-a212-8779952c6db2",
   "metadata": {},
   "source": [
    "### Keys in the dictionary can be any immutable DS"
   ]
  },
  {
   "cell_type": "code",
   "execution_count": null,
   "id": "a6c467d3-1158-4aa4-ae07-42247185ad08",
   "metadata": {},
   "outputs": [],
   "source": [
    "str = \"ASHWANI\""
   ]
  },
  {
   "cell_type": "code",
   "execution_count": null,
   "id": "43bdfc0e-3375-4d85-802a-1fe7015963a6",
   "metadata": {},
   "outputs": [],
   "source": [
    "str.replace('A','1')"
   ]
  },
  {
   "cell_type": "markdown",
   "id": "56a92529-e044-4b84-b7ab-725126659683",
   "metadata": {},
   "source": [
    "## Set"
   ]
  },
  {
   "cell_type": "code",
   "execution_count": null,
   "id": "33cc4397-3203-4d8d-9b0b-58ea33cb14b1",
   "metadata": {},
   "outputs": [],
   "source": [
    "a = set()\n",
    "type(a)"
   ]
  },
  {
   "cell_type": "code",
   "execution_count": null,
   "id": "61db4171-cb6e-4450-bfea-181feb0f2280",
   "metadata": {},
   "outputs": [],
   "source": [
    "a = {}\n",
    "type(a)"
   ]
  },
  {
   "cell_type": "code",
   "execution_count": null,
   "id": "b96b0de2-01f1-4073-8f7e-0ed5b2a82932",
   "metadata": {},
   "outputs": [],
   "source": [
    "a = {1, 2, 3, 4}\n",
    "b = {3, 4, 5, 6}\n"
   ]
  },
  {
   "cell_type": "code",
   "execution_count": null,
   "id": "21104844-e29a-473c-a822-b2a87de8ff21",
   "metadata": {},
   "outputs": [],
   "source": [
    "a.intersection(b)"
   ]
  },
  {
   "cell_type": "code",
   "execution_count": null,
   "id": "d9033f4a-2911-4098-ab4b-3ea61218206d",
   "metadata": {},
   "outputs": [],
   "source": [
    "a.union(b)"
   ]
  },
  {
   "cell_type": "code",
   "execution_count": null,
   "id": "02e60c41-0808-4c0c-a302-5543803bf559",
   "metadata": {},
   "outputs": [],
   "source": [
    "a - b"
   ]
  },
  {
   "cell_type": "code",
   "execution_count": null,
   "id": "422ee861-42d3-43e9-bce1-974dce178df0",
   "metadata": {},
   "outputs": [],
   "source": [
    "b - a"
   ]
  },
  {
   "cell_type": "markdown",
   "id": "adbb6134-77d1-40d5-8a7b-58a334adb221",
   "metadata": {},
   "source": [
    "### set cannot be indexed"
   ]
  },
  {
   "cell_type": "code",
   "execution_count": null,
   "id": "acd5d8eb-1bf9-4050-9aef-3b3c829e9d08",
   "metadata": {},
   "outputs": [],
   "source": [
    "for i in a:\n",
    "    print(i)"
   ]
  },
  {
   "cell_type": "code",
   "execution_count": null,
   "id": "4b7e206f-00cb-4259-9247-1d9a1c1510c2",
   "metadata": {},
   "outputs": [],
   "source": [
    "a = {1, 2, 3, 4, 1, 2, 3, 4} "
   ]
  },
  {
   "cell_type": "code",
   "execution_count": null,
   "id": "d266c497-e842-4655-9a23-ba95140f275f",
   "metadata": {},
   "outputs": [],
   "source": [
    "len(a)"
   ]
  },
  {
   "cell_type": "markdown",
   "id": "389b1058-ff83-4b3c-8232-39b6e11cddbd",
   "metadata": {},
   "source": [
    "### set is unordered"
   ]
  },
  {
   "cell_type": "markdown",
   "id": "a91c6726-31f1-4269-be25-c0d769e087e7",
   "metadata": {},
   "source": [
    "## Comprehension Of DS in python"
   ]
  },
  {
   "cell_type": "code",
   "execution_count": null,
   "id": "b81c7015-1eb4-4ad8-8113-424063422aa7",
   "metadata": {},
   "outputs": [],
   "source": [
    "a = []\n",
    "for i in range(10):\n",
    "    a.append(i**2)"
   ]
  },
  {
   "cell_type": "code",
   "execution_count": null,
   "id": "18be694c-7556-4375-a241-c08e8e5c4b4f",
   "metadata": {},
   "outputs": [],
   "source": [
    "print(a)"
   ]
  },
  {
   "cell_type": "markdown",
   "id": "8828ed71-1413-48c0-b22d-57b9525f5b26",
   "metadata": {},
   "source": [
    "List Comprenhsion"
   ]
  },
  {
   "cell_type": "code",
   "execution_count": null,
   "id": "0e1a4f5c-f155-4406-9338-7683a4a17e43",
   "metadata": {},
   "outputs": [],
   "source": [
    "[i**2 for i in range(10)]"
   ]
  },
  {
   "cell_type": "code",
   "execution_count": null,
   "id": "8c1d2e80-5c5c-494b-aa6e-5e45c4aa383b",
   "metadata": {},
   "outputs": [],
   "source": [
    "[i**2 for i in range(10) if i%2==0]"
   ]
  },
  {
   "cell_type": "markdown",
   "id": "2e200fe7-5204-4695-a179-c717052e28a8",
   "metadata": {},
   "source": [
    "Dict Comprenhsion"
   ]
  },
  {
   "cell_type": "code",
   "execution_count": null,
   "id": "6ef1bc3f-413f-4ecb-920b-0f7326696c5f",
   "metadata": {},
   "outputs": [],
   "source": [
    "{ i: i**2 for i in range(10)}"
   ]
  },
  {
   "cell_type": "markdown",
   "id": "3c78e112-2031-4977-bba9-572669b74303",
   "metadata": {},
   "source": [
    "Set Comprehnsion"
   ]
  },
  {
   "cell_type": "code",
   "execution_count": null,
   "id": "28889894-7e3a-40a4-a3c3-20aacdd2b274",
   "metadata": {},
   "outputs": [],
   "source": [
    "{i**2 for i  in range(10) if i % 2 == 0 }"
   ]
  },
  {
   "cell_type": "markdown",
   "id": "0ebb036d-85ce-4c02-b257-2aae330af201",
   "metadata": {},
   "source": [
    "NOT Tuple Comprehension "
   ]
  },
  {
   "cell_type": "code",
   "execution_count": null,
   "id": "e51b5dac-cec9-4676-96b5-46072a8eedec",
   "metadata": {},
   "outputs": [],
   "source": [
    "a = ( i**2 for i in range(10))\n",
    "a"
   ]
  },
  {
   "cell_type": "markdown",
   "id": "ea78a81b-749a-4ce1-a26e-2fe3bbf9930e",
   "metadata": {},
   "source": [
    "## Classes in Python "
   ]
  },
  {
   "cell_type": "markdown",
   "id": "ecf22d1d-4eba-485e-bacc-5c5090a967d4",
   "metadata": {},
   "source": [
    "### A minimal example of class"
   ]
  },
  {
   "cell_type": "code",
   "execution_count": null,
   "id": "1d472837-58fd-4da2-a051-f00e1984e363",
   "metadata": {},
   "outputs": [],
   "source": [
    "isinstance(\"asda\", object)"
   ]
  },
  {
   "cell_type": "code",
   "execution_count": null,
   "id": "bcb2b9b2-519d-4b1d-8a71-33ff9582c9dc",
   "metadata": {},
   "outputs": [],
   "source": [
    "isinstance(234, object)"
   ]
  },
  {
   "cell_type": "markdown",
   "id": "3df04a20-e538-49cf-83a4-3af9dabcd8d8",
   "metadata": {},
   "source": [
    "### is object callable \n",
    "int , float not callable"
   ]
  },
  {
   "cell_type": "code",
   "execution_count": null,
   "id": "79c06997-d607-4676-ba9d-8a19829cc737",
   "metadata": {},
   "outputs": [],
   "source": [
    "class Person: # try to make first letter Capital\n",
    "    pass\n",
    "\n",
    "p = Person()\n",
    "print(p)"
   ]
  },
  {
   "cell_type": "code",
   "execution_count": null,
   "id": "7f6a481b-ea30-4644-b2d1-ec111a894934",
   "metadata": {},
   "outputs": [],
   "source": [
    "hex(id(p))"
   ]
  },
  {
   "cell_type": "markdown",
   "id": "7b1feb97-ab82-4368-86c3-8c97c612145c",
   "metadata": {},
   "source": [
    "### The \\_\\_init\\_\\_ method"
   ]
  },
  {
   "cell_type": "code",
   "execution_count": null,
   "id": "453e9bfd-b4f7-4509-9edf-82d411622b03",
   "metadata": {},
   "outputs": [],
   "source": [
    "class Person:\n",
    "    name = \"ASHWANI\"\n",
    "    # not a constructor\n",
    "    def __init__(self):\n",
    "        print(\"Object is created\")\n",
    "        \n",
    "    def say_hi(self):\n",
    "        print(\"Hello, my name is \",self.name)\n",
    "\n",
    "p = Person()\n",
    "p.say_hi()"
   ]
  },
  {
   "cell_type": "code",
   "execution_count": null,
   "id": "42a99f4e-53f6-45aa-8ad4-a13ee3e5395e",
   "metadata": {},
   "outputs": [],
   "source": [
    "Person.say_hi(p)"
   ]
  },
  {
   "cell_type": "markdown",
   "id": "63bc5882-fcda-448c-a4e0-8e2db566d4e1",
   "metadata": {},
   "source": [
    "## Dunders and Magc Functions \n",
    "### \\_\\_init\\_\\_(self)\n",
    "### \\_\\_del\\_\\_(self)\n",
    "### \\_\\_add\\_\\_(self, another)\n",
    "### \\_\\_str\\_\\_(self)\n",
    "### \\_\\_eq\\_\\_(self)\n",
    "         a == b\n",
    "         a.__eq__(b)\n",
    "\n",
    "A lot available Can check in python Docs"
   ]
  },
  {
   "cell_type": "code",
   "execution_count": null,
   "id": "77434f9c-3606-4d26-818d-63072f064a82",
   "metadata": {},
   "outputs": [],
   "source": [
    "cout<<\"ASHWANI\""
   ]
  },
  {
   "cell_type": "code",
   "execution_count": null,
   "id": "757641a1-94a3-4971-b21c-f354ebfc2dd4",
   "metadata": {},
   "outputs": [],
   "source": [
    "class Ostream:\n",
    "    def __lshift__(self, other):\n",
    "        print(other, end = ' ')\n",
    "        return self\n",
    "\n",
    "cout = Ostream()"
   ]
  },
  {
   "cell_type": "code",
   "execution_count": null,
   "id": "12d04f20-b502-47e7-a283-4afe0b814796",
   "metadata": {},
   "outputs": [],
   "source": [
    "class Dog:\n",
    "    kind = 'canine'    # class varaible shared by all instances\n",
    "    def __init__(self, name):\n",
    "        self.name = name     # instance variable unique to each instance"
   ]
  },
  {
   "cell_type": "code",
   "execution_count": null,
   "id": "931f56f3-95be-4312-9f60-2a66eb246cb5",
   "metadata": {},
   "outputs": [],
   "source": [
    "class Dog:\n",
    "    tricks = []  # mistaken use of a class variable\n",
    "    def __init__(self, name):\n",
    "        self.name = name\n",
    "\n",
    "    def add_trick(self, tricks):\n",
    "        self.tricks.append(tricks)"
   ]
  },
  {
   "cell_type": "code",
   "execution_count": null,
   "id": "565b1fee-a5cf-4446-8ee2-1dd0d3270427",
   "metadata": {},
   "outputs": [],
   "source": [
    "a = Dog(\"maxx\")\n",
    "b = Dog(\"bruno\")"
   ]
  },
  {
   "cell_type": "code",
   "execution_count": null,
   "id": "ce488436-4484-4d0c-9bc2-64bdb41ffb9e",
   "metadata": {},
   "outputs": [],
   "source": [
    "a.add_trick(\"fetch\")"
   ]
  },
  {
   "cell_type": "code",
   "execution_count": null,
   "id": "88b78899-5d0d-4dbd-8842-868740f99eaa",
   "metadata": {},
   "outputs": [],
   "source": [
    "a.add_trick(\"talk\")"
   ]
  },
  {
   "cell_type": "code",
   "execution_count": null,
   "id": "3f1e634e-1ff9-4dd9-bd5a-2a413e765c88",
   "metadata": {},
   "outputs": [],
   "source": [
    "a.tricks"
   ]
  },
  {
   "cell_type": "code",
   "execution_count": null,
   "id": "2e87bf67-ba13-4376-bd6d-e6f648af4d86",
   "metadata": {},
   "outputs": [],
   "source": [
    "b.tricks"
   ]
  },
  {
   "cell_type": "code",
   "execution_count": null,
   "id": "14616917-1b09-4abe-9c7b-5c154fd487f0",
   "metadata": {},
   "outputs": [],
   "source": [
    "id(a.tricks)"
   ]
  },
  {
   "cell_type": "code",
   "execution_count": null,
   "id": "8b84857e-72e9-44f5-be49-37bb26bb281f",
   "metadata": {},
   "outputs": [],
   "source": [
    "id(b.tricks)"
   ]
  },
  {
   "cell_type": "code",
   "execution_count": null,
   "id": "90d07382-dad0-496a-98d3-0308270d57d8",
   "metadata": {},
   "outputs": [],
   "source": [
    "class Dog:\n",
    "    # tricks = []  # mistaken use of a class variable\n",
    "    def __init__(self, name):\n",
    "        self.name = name\n",
    "        self.tricks = []\n",
    "\n",
    "    def add_trick(self, tricks):\n",
    "        self.tricks.append(tricks)"
   ]
  },
  {
   "cell_type": "code",
   "execution_count": null,
   "id": "478ca4f1-c58f-41aa-a8c5-95aa8b309e77",
   "metadata": {},
   "outputs": [],
   "source": [
    "a = Dog(\"maxx\")"
   ]
  },
  {
   "cell_type": "code",
   "execution_count": null,
   "id": "75386fc5-e47e-47fd-a7d7-778eb1fb4a02",
   "metadata": {},
   "outputs": [],
   "source": [
    "b = Dog(\"Bruno\")"
   ]
  },
  {
   "cell_type": "code",
   "execution_count": null,
   "id": "fba78064-607c-4ccc-bd2d-efea6fbbeb9e",
   "metadata": {},
   "outputs": [],
   "source": [
    "a.add_trick(\"fetch\")"
   ]
  },
  {
   "cell_type": "code",
   "execution_count": null,
   "id": "57362b5f-f8ca-41ed-9228-a44929382b32",
   "metadata": {},
   "outputs": [],
   "source": [
    "a.tricks"
   ]
  },
  {
   "cell_type": "code",
   "execution_count": null,
   "id": "402d9f9a-0cbe-486f-8ace-d16bcf40b7b4",
   "metadata": {},
   "outputs": [],
   "source": [
    "b.tricks"
   ]
  },
  {
   "cell_type": "code",
   "execution_count": null,
   "id": "53beb442-8104-44a9-b910-2258bc0fc633",
   "metadata": {
    "scrolled": true
   },
   "outputs": [],
   "source": [
    "class SchoolMember:\n",
    "    '''Represent any school member'''\n",
    "    def __init__(self, name, age):\n",
    "        self.name = name\n",
    "        self.age = age\n",
    "        print('(initialized SchoolMember{})'.format(self.name))\n",
    "\n",
    "    def tell(self):\n",
    "        '''Tell my details'''\n",
    "        print('Name:\"{}\" Age: \"{}\"'.format(self.name, self.age), end = \" \")\n",
    "\n",
    "class Teacher(SchoolMember):\n",
    "    '''Represent a teacher.'''\n",
    "\n",
    "    def __init__(self, name, age, salary):\n",
    "        super().__init__(name, age)\n",
    "        self.salary = salary\n",
    "        print('(Intialized Teacher: {})'.format(self.name))\n",
    "\n",
    "    def tell(self):\n",
    "        super().tell()\n",
    "        print('Salary: \"{:d}\"'.format(self.salary))\n",
    "\n",
    "class Student(SchoolMember):\n",
    "    '''Represent a student.'''\n",
    "    def __init__(self, name, age, marks):\n",
    "        super().__init__(name, age)\n",
    "        self.marks = marks\n",
    "        print('(Intialized Student: {})'.format(self.name))\n",
    "\n",
    "    def tell(self):\n",
    "        super().tell()\n",
    "        print('Marks \"{:d}\"'.format(self.marks))\n",
    "\n",
    "t = Teacher('Mr. Ujjwal', 40, 30000)\n",
    "t.tell()\n",
    "s = Student('ASHWANI', 21, 100)\n",
    "s.tell()"
   ]
  },
  {
   "cell_type": "markdown",
   "id": "9f76b80d-d5da-4890-80ef-771f4f242199",
   "metadata": {},
   "source": [
    "## #MRO - Method Resolution order"
   ]
  },
  {
   "attachments": {
    "1f4a6924-2926-43a7-b4b8-de730e54cdf4.png": {
     "image/png": "[encoded data removed]"
    }
   },
   "cell_type": "markdown",
   "id": "8b9518fc-361c-4c97-bd53-98a95c165fb4",
   "metadata": {},
   "source": [
    "\n",
    "![Screenshot 2023-09-06 at 5.03.20 PM.png](attachment:1f4a6924-2926-43a7-b4b8-de730e54cdf4.png)\n"
   ]
  },
  {
   "attachments": {
    "cc86f2c6-22f7-46e5-87cf-c2e212ea3c8a.png": {
     "image/png": "[encoded data removed]"
    }
   },
   "cell_type": "markdown",
   "id": "16968f7c-8405-4875-966d-ec6e23864a78",
   "metadata": {},
   "source": [
    "![Screenshot 2023-09-06 at 5.07.43 PM.png](attachment:cc86f2c6-22f7-46e5-87cf-c2e212ea3c8a.png)"
   ]
  },
  {
   "cell_type": "code",
   "execution_count": null,
   "id": "599f4e97-863e-4894-ab4a-b1962eaa90a4",
   "metadata": {},
   "outputs": [],
   "source": [
    "class A:\n",
    "    x = 10\n",
    "\n",
    "class B(A):\n",
    "    pass\n",
    "\n",
    "class C(A):\n",
    "    x = 5\n",
    "\n",
    "class D(C):\n",
    "    pass\n",
    "\n",
    "class E(B, D):\n",
    "    pass\n",
    "\n"
   ]
  },
  {
   "cell_type": "code",
   "execution_count": null,
   "id": "2b27043f-bcb0-4be8-ba0f-f59a31bea00d",
   "metadata": {},
   "outputs": [],
   "source": [
    "E.x"
   ]
  },
  {
   "cell_type": "code",
   "execution_count": null,
   "id": "03890b0b-9168-44de-969c-d717f4c51e5f",
   "metadata": {},
   "outputs": [],
   "source": [
    "E.__mro__"
   ]
  },
  {
   "cell_type": "markdown",
   "id": "70d5f251-9f69-44f9-a150-f5e4f6449a9a",
   "metadata": {},
   "source": [
    "## Modules in Python"
   ]
  },
  {
   "cell_type": "code",
   "execution_count": null,
   "id": "76173eb2-abaa-4c00-8aa8-e2cbfb7fcaaa",
   "metadata": {},
   "outputs": [],
   "source": [
    "print(\"Hello World !\")"
   ]
  },
  {
   "cell_type": "code",
   "execution_count": null,
   "id": "e420c2ed-518b-4729-836e-598ab8ac3c7d",
   "metadata": {},
   "outputs": [],
   "source": [
    "def func():\n",
    "    print(\"Hello\")"
   ]
  },
  {
   "cell_type": "code",
   "execution_count": null,
   "id": "49855916-4227-4deb-90c3-c34c87079299",
   "metadata": {},
   "outputs": [],
   "source": [
    "func()"
   ]
  },
  {
   "cell_type": "markdown",
   "id": "19956920-3603-4b9f-ac0c-847e47badda1",
   "metadata": {},
   "source": [
    "### Visit VS Code for modules portion"
   ]
  },
  {
   "cell_type": "markdown",
   "id": "63e248e0-2b87-4b22-858c-fe2ffc032526",
   "metadata": {},
   "source": [
    "## File Handling in Python"
   ]
  },
  {
   "cell_type": "markdown",
   "id": "9acc81aa-0d2f-4d63-b2e1-420b473ee79c",
   "metadata": {},
   "source": [
    "### File Access Mode"
   ]
  },
  {
   "cell_type": "markdown",
   "id": "3797c5c6-94bb-4d5a-80d5-2067b0986485",
   "metadata": {},
   "source": [
    "- read mode (r)\n",
    "- read + write (r+)\n",
    "- write (w) => will start from beginning of the file\n",
    "- write + read (w+)\n",
    "- append (a) => will start writing from the end of the file\n",
    "- append (a+)"
   ]
  },
  {
   "cell_type": "markdown",
   "id": "48ccedb7-d914-4655-b684-c43ec21c385e",
   "metadata": {},
   "source": [
    "### 1. Text files\n"
   ]
  },
  {
   "cell_type": "markdown",
   "id": "d43b33ae-1762-48f6-b1bd-6254c472ec84",
   "metadata": {},
   "source": [
    "#### Opening a file"
   ]
  },
  {
   "cell_type": "code",
   "execution_count": null,
   "id": "bad29b6c-335a-4f24-90b7-2d616d26b658",
   "metadata": {},
   "outputs": [],
   "source": [
    "file = open(\"tmp.txt\", \"r\")"
   ]
  },
  {
   "cell_type": "code",
   "execution_count": null,
   "id": "2bc1cad5-fc4d-436b-b7cb-a3156e381f72",
   "metadata": {},
   "outputs": [],
   "source": [
    "file.read()"
   ]
  },
  {
   "cell_type": "code",
   "execution_count": null,
   "id": "4489d175-4a40-4819-b3a2-1491d3862473",
   "metadata": {},
   "outputs": [],
   "source": [
    "file.read(2)"
   ]
  },
  {
   "cell_type": "markdown",
   "id": "ade1ded0-7071-4a81-94f1-fbffb1f49cb4",
   "metadata": {},
   "source": [
    "#### Closing a file"
   ]
  },
  {
   "cell_type": "code",
   "execution_count": null,
   "id": "2adb8852-0983-4ed4-9f70-b1138d7fda57",
   "metadata": {},
   "outputs": [],
   "source": [
    "file.close()"
   ]
  },
  {
   "cell_type": "markdown",
   "id": "ad8a4479-cab7-445d-9d5e-eb296534fec5",
   "metadata": {},
   "source": [
    "#### Writing to a file"
   ]
  },
  {
   "cell_type": "code",
   "execution_count": null,
   "id": "4a97f845-9dc8-402a-b20e-c41ded8b781a",
   "metadata": {},
   "outputs": [],
   "source": [
    "file = open(\"something.txt\",\"w\")"
   ]
  },
  {
   "cell_type": "code",
   "execution_count": null,
   "id": "1724769d-b140-44a3-94f8-1b5ea03b0628",
   "metadata": {},
   "outputs": [],
   "source": [
    "file.write(\"hello from other side\")"
   ]
  },
  {
   "cell_type": "code",
   "execution_count": null,
   "id": "b1948a43-6702-4754-a2fb-d74ab617a4f8",
   "metadata": {},
   "outputs": [],
   "source": [
    "file.close()"
   ]
  },
  {
   "cell_type": "markdown",
   "id": "f14c9315-cde9-4fc2-8a3b-be354ba7805a",
   "metadata": {},
   "source": [
    "#### Reading from a file"
   ]
  },
  {
   "cell_type": "code",
   "execution_count": null,
   "id": "ad3849cf-5760-4536-b429-d46f17b90dbf",
   "metadata": {},
   "outputs": [],
   "source": [
    "file = open(\"tmp.txt\",'r')"
   ]
  },
  {
   "cell_type": "code",
   "execution_count": null,
   "id": "54dc1b12-a933-4246-8b43-1e20430f8037",
   "metadata": {},
   "outputs": [],
   "source": [
    "file.readline()"
   ]
  },
  {
   "cell_type": "code",
   "execution_count": null,
   "id": "65893f34-ca61-4c2e-b1c5-4b7901b42778",
   "metadata": {},
   "outputs": [],
   "source": [
    "file.close()"
   ]
  },
  {
   "cell_type": "markdown",
   "id": "b4ce4b1c-c834-4534-ac12-4d3675f387ac",
   "metadata": {},
   "source": [
    "#### Moving the cursor"
   ]
  },
  {
   "cell_type": "markdown",
   "id": "ab718031-8b31-4e0d-95b5-3802b4b5c91c",
   "metadata": {},
   "source": [
    "##### seek(n) : move the cursor to te nth byte from the beginning"
   ]
  },
  {
   "cell_type": "markdown",
   "id": "278a830e-c414-4059-901b-d84d7f3d341d",
   "metadata": {},
   "source": [
    "#### with block to handle file is a smart way not necessary to close file"
   ]
  },
  {
   "cell_type": "code",
   "execution_count": null,
   "id": "5b3a43af-8097-4108-afde-698a734000a7",
   "metadata": {},
   "outputs": [],
   "source": [
    "with open(\"tmp.txt\",\"r\") as file:\n",
    "    print(file.read())\n",
    "    file.seek(5)\n",
    "    print(file.read())\n",
    "file.read()"
   ]
  },
  {
   "cell_type": "markdown",
   "id": "894ae98a-7e7d-4695-8afe-1df0f09a848a",
   "metadata": {},
   "source": [
    "### JSON file"
   ]
  },
  {
   "cell_type": "code",
   "execution_count": null,
   "id": "8f53cd1e-25d0-4f57-9283-f87027c7f26b",
   "metadata": {},
   "outputs": [],
   "source": [
    "import json"
   ]
  },
  {
   "cell_type": "markdown",
   "id": "586c52be-8a81-47fd-a9bd-e61477676c0b",
   "metadata": {},
   "source": [
    "- json.dump(obj, file) => to create a dict to JSON\n",
    "- json.dumps(obj, file) => to create a JSON string from dict\n",
    "- json.load(file) => create a dictionary of JSON\n",
    "- json.loads(file) => create a string dictionary of JSON"
   ]
  },
  {
   "cell_type": "code",
   "execution_count": null,
   "id": "b8e37c7b-88a0-4b8a-8446-0fdfed565086",
   "metadata": {},
   "outputs": [],
   "source": [
    "with open(\"data.json\", \"r\") as file:\n",
    "    dict = json.load(file)\n",
    "    print(dict)\n",
    "    print(type(dict))"
   ]
  },
  {
   "cell_type": "code",
   "execution_count": null,
   "id": "c089eb0b-3c59-4be9-8c99-57c7290171ab",
   "metadata": {},
   "outputs": [],
   "source": [
    "with open(\"data.json\", \"r\") as file:\n",
    "    data = file.read()\n",
    "    dict = json.loads(data)\n",
    "    print(dict)\n",
    "    print(type(dict))"
   ]
  },
  {
   "cell_type": "markdown",
   "id": "c9e1969e-8fe8-426a-a8ff-bf0db8c799e4",
   "metadata": {},
   "source": [
    "### dictionary to JSON "
   ]
  },
  {
   "cell_type": "code",
   "execution_count": null,
   "id": "653eede5-74fd-4b37-b787-4c80e1729150",
   "metadata": {},
   "outputs": [],
   "source": [
    "d = {'name': 'ASHWANI SONI', 'marks': 90, 'subjects': ['eng', 'maths']}"
   ]
  },
  {
   "cell_type": "code",
   "execution_count": null,
   "id": "47a4243a-72c6-41ee-9542-540b42598559",
   "metadata": {},
   "outputs": [],
   "source": [
    "d"
   ]
  },
  {
   "cell_type": "code",
   "execution_count": null,
   "id": "74049f86-b194-4a90-a6c6-6fc717c7db32",
   "metadata": {},
   "outputs": [],
   "source": [
    "string = json.dumps(d)"
   ]
  },
  {
   "cell_type": "code",
   "execution_count": null,
   "id": "96bd160f-159e-4149-82c2-5a3b640d962e",
   "metadata": {},
   "outputs": [],
   "source": [
    "with open(\"data1.json\",'w') as file:\n",
    "    json.dump(d, file)"
   ]
  },
  {
   "cell_type": "markdown",
   "id": "94150f3f-45a7-4ebc-96d3-38039059616e",
   "metadata": {},
   "source": [
    "### Error and Exception"
   ]
  },
  {
   "cell_type": "code",
   "execution_count": null,
   "id": "77e8beaf-9ab2-4a00-900a-86c84f59ff78",
   "metadata": {},
   "outputs": [],
   "source": [
    "def div(a, b):\n",
    "    try:\n",
    "        print(a/b)\n",
    "    except:\n",
    "        print(\"Error!\")\n",
    "    print(\"Hello\")\n",
    "    "
   ]
  },
  {
   "cell_type": "code",
   "execution_count": null,
   "id": "3f93d898-b40c-4121-b222-76762f35dfeb",
   "metadata": {},
   "outputs": [],
   "source": [
    "div(10, 1)"
   ]
  },
  {
   "cell_type": "code",
   "execution_count": null,
   "id": "3337cd16-26a9-403e-8057-afa36cbfd5c5",
   "metadata": {},
   "outputs": [],
   "source": [
    "10/0"
   ]
  },
  {
   "cell_type": "code",
   "execution_count": null,
   "id": "58cf8ce3-6c4c-43ee-87f6-934e23d92aa1",
   "metadata": {},
   "outputs": [],
   "source": [
    "try:\n",
    "    a = int(\"ASHWANI\")\n",
    "    print(10/0)\n",
    "except ZeroDivisionError:\n",
    "    print(\"dividing by zero : (\")\n",
    "except ValueError:\n",
    "    print(\"kiya kr rha h Bhai\")"
   ]
  },
  {
   "cell_type": "code",
   "execution_count": null,
   "id": "36119a24-fc21-418f-9690-2f9eaf24b9a6",
   "metadata": {},
   "outputs": [],
   "source": [
    "try:\n",
    "    print(10/0)\n",
    "\n",
    "except Exception as e:\n",
    "    print(e)\n",
    "    print(type(e))"
   ]
  },
  {
   "cell_type": "markdown",
   "id": "0d4c33b8-a50c-446b-83b1-98c82585ec6f",
   "metadata": {},
   "source": [
    "- # raise"
   ]
  },
  {
   "cell_type": "code",
   "execution_count": null,
   "id": "16711837-4916-4173-a506-f158178462b1",
   "metadata": {},
   "outputs": [],
   "source": [
    "try: \n",
    "    raise Exception(\"My custom error\", 1, 2)\n",
    "except Exception as e:\n",
    "    print(e.argsl)"
   ]
  },
  {
   "cell_type": "code",
   "execution_count": null,
   "id": "a4664ea4-42ac-49ca-9469-98e6b5a3c1c6",
   "metadata": {},
   "outputs": [],
   "source": [
    "class MyException(Exception): # Must inherit from Exception class\n",
    "    def __init__(self, message):\n",
    "        self.message = message\n",
    "    def __str__(self):\n",
    "        return self.message"
   ]
  },
  {
   "cell_type": "code",
   "execution_count": null,
   "id": "9ba2169d-5c49-4bbe-8e77-67103cd00443",
   "metadata": {},
   "outputs": [],
   "source": [
    "try:\n",
    "    raise MyException(\"some error\")\n",
    "except Exception as e:\n",
    "    print(type(e))"
   ]
  },
  {
   "cell_type": "markdown",
   "id": "6cf053a6-7b13-488e-972e-e746d3402e3c",
   "metadata": {},
   "source": [
    "some error \n",
    "\n",
    "- else: will always execute if the try block didn't threw any error\n",
    "- finally: will always execute"
   ]
  },
  {
   "cell_type": "code",
   "execution_count": null,
   "id": "0f1fd451-0167-4c22-b671-0c6821b10006",
   "metadata": {},
   "outputs": [],
   "source": [
    "try:\n",
    "    print(\"Hello World\")\n",
    "    # print(10/0)\n",
    "except:\n",
    "    print(\"ok error\")\n",
    "else:\n",
    "    print(\"woah\")\n",
    "finally:\n",
    "    print(\"wrapping up\")"
   ]
  },
  {
   "cell_type": "code",
   "execution_count": null,
   "id": "b197a38a-6c12-4d60-9a89-94471dabfc40",
   "metadata": {},
   "outputs": [],
   "source": [
    "def func():\n",
    "    try:\n",
    "        return 1\n",
    "    except:\n",
    "        return 2\n",
    "    else:\n",
    "        return 3\n",
    "    finally:\n",
    "        return 4"
   ]
  },
  {
   "cell_type": "code",
   "execution_count": null,
   "id": "d44031da-9fea-4c8d-831c-1e5cba60e64a",
   "metadata": {},
   "outputs": [],
   "source": [
    "func()"
   ]
  },
  {
   "cell_type": "code",
   "execution_count": null,
   "id": "9925176e-9588-4bdd-97b9-f86753dd8ab2",
   "metadata": {},
   "outputs": [],
   "source": [
    "class A:\n",
    "    def __init__(self, n):\n",
    "        self.n = n\n",
    "    def __str__(self):\n",
    "        return str(self.n)\n",
    "    def __enter__(self):\n",
    "        return self\n",
    "    def __exit__(self, *args):\n",
    "        print(args)"
   ]
  },
  {
   "cell_type": "code",
   "execution_count": null,
   "id": "1e5e3252-5e26-402e-a323-9ecbfff01c50",
   "metadata": {},
   "outputs": [],
   "source": [
    "with A(5) as a:\n",
    "    print(a)\n",
    "\n",
    "print('Hello')"
   ]
  },
  {
   "cell_type": "markdown",
   "id": "5582aea2-0af1-42f1-8267-0b7583b87337",
   "metadata": {},
   "source": [
    "## Iteration protcol in python "
   ]
  },
  {
   "cell_type": "code",
   "execution_count": null,
   "id": "990353df-7444-4a52-bf67-5e94e20641ef",
   "metadata": {},
   "outputs": [],
   "source": [
    "x = [1, 2, 3]\n",
    "x_iter = iter(x)"
   ]
  },
  {
   "cell_type": "code",
   "execution_count": null,
   "id": "cda288f4-6a76-4f5d-afa9-a950891cd635",
   "metadata": {},
   "outputs": [],
   "source": [
    "next(x_iter)"
   ]
  },
  {
   "cell_type": "code",
   "execution_count": null,
   "id": "c16b0608-5c61-4606-a656-c96555c45e91",
   "metadata": {},
   "outputs": [],
   "source": [
    "next(x_iter)"
   ]
  },
  {
   "cell_type": "code",
   "execution_count": null,
   "id": "eb03b506-948a-4a8b-8720-a19de5a74dc3",
   "metadata": {},
   "outputs": [],
   "source": [
    "class yrange:\n",
    "    # n is the number upto which I want the range\n",
    "    def __init__(self, n):\n",
    "        self.i = 0\n",
    "        self.n = n\n",
    "    # this method makes our class iterable\n",
    "    def __iter__(self):\n",
    "        return self\n",
    "\n",
    "    def __next__(self):\n",
    "        if self.i < self.n:\n",
    "            i = self.i\n",
    "            self.i += 1\n",
    "            return i\n",
    "        else:\n",
    "            raise StopIteration()\n",
    "\n",
    "    "
   ]
  },
  {
   "cell_type": "code",
   "execution_count": null,
   "id": "c83c0e52-9554-4ad0-8f33-fcb70c6626d8",
   "metadata": {},
   "outputs": [],
   "source": [
    "for x in yrange(5):\n",
    "    print(x)"
   ]
  },
  {
   "cell_type": "code",
   "execution_count": null,
   "id": "89740046-8501-48bc-a0db-0bf6f4ab0773",
   "metadata": {},
   "outputs": [],
   "source": [
    "y = yrange(5)"
   ]
  },
  {
   "cell_type": "code",
   "execution_count": null,
   "id": "d2256aa4-cae9-4d2f-8012-9c70670d0243",
   "metadata": {},
   "outputs": [],
   "source": [
    "y_iter = iter(y)"
   ]
  },
  {
   "cell_type": "code",
   "execution_count": null,
   "id": "37ebb0e0-2812-4933-a6b0-8a89bb85b864",
   "metadata": {},
   "outputs": [],
   "source": [
    "class zrange:\n",
    "    def __init__(self, n):\n",
    "        self.n = n\n",
    "    def __iter__(self):\n",
    "        return zrange_iter(self.n)\n",
    "\n",
    "class zrange_iter:\n",
    "    def __init__(self, n):\n",
    "        self.i = 0\n",
    "        self.n = n\n",
    "    def __iter__(self):\n",
    "        return self\n",
    "    def __next__(self):\n",
    "        if self.i<self.n:\n",
    "            i = self.i\n",
    "            self.i += 1\n",
    "            return i\n",
    "        else:\n",
    "            return StopIteration()\n",
    "        "
   ]
  },
  {
   "cell_type": "code",
   "execution_count": 1,
   "id": "7030fca6-af8a-49cf-bd14-0a77daebe603",
   "metadata": {},
   "outputs": [
    {
     "name": "stdout",
     "output_type": "stream",
     "text": [
      "helo\n"
     ]
    }
   ],
   "source": [
    "print(\"helo\")"
   ]
  },
  {
   "cell_type": "markdown",
   "id": "838e124a-d118-4c1b-aed0-491b63624f31",
   "metadata": {},
   "source": [
    "## iterators and Generators"
   ]
  },
  {
   "cell_type": "code",
   "execution_count": 1,
   "id": "af48dca6-0712-4f82-a958-ef0289739c6f",
   "metadata": {},
   "outputs": [
    {
     "name": "stdout",
     "output_type": "stream",
     "text": [
      "1\n",
      "[5, 6, 7]\n",
      "2\n",
      "3\n",
      "4\n"
     ]
    }
   ],
   "source": [
    "a = [1, [5, 6, 7], 2, 3, 4]\n",
    "for x in a:\n",
    "    print(x)"
   ]
  },
  {
   "cell_type": "code",
   "execution_count": 2,
   "id": "1621091b-404a-4e41-acb8-9b632a38dc64",
   "metadata": {},
   "outputs": [
    {
     "name": "stdout",
     "output_type": "stream",
     "text": [
      "A\n",
      "S\n",
      "H\n",
      "W\n",
      "A\n",
      "N\n",
      "I\n",
      " \n",
      "S\n",
      "O\n",
      "N\n",
      "I\n"
     ]
    }
   ],
   "source": [
    "name = \"ASHWANI SONI\"\n",
    "\n",
    "for char in name:\n",
    "    print(char)"
   ]
  },
  {
   "cell_type": "code",
   "execution_count": 4,
   "id": "4871baf9-d59e-48df-839c-d7b5fd3cb332",
   "metadata": {},
   "outputs": [
    {
     "name": "stdout",
     "output_type": "stream",
     "text": [
      "name\n",
      "last_name\n",
      "marks\n"
     ]
    }
   ],
   "source": [
    "d = { \"name\":\"ASHWANI\", \"last_name\": \"SONI\", \"marks\":100}\n",
    "\n",
    "for x in d:\n",
    "    print(x)"
   ]
  },
  {
   "cell_type": "code",
   "execution_count": 5,
   "id": "3ce661df-5ce6-474e-a316-554b610d48fc",
   "metadata": {},
   "outputs": [
    {
     "name": "stdout",
     "output_type": "stream",
     "text": [
      "hello\n",
      "\n",
      "my name is\n",
      "\n",
      "ASHWANI SONI\n"
     ]
    }
   ],
   "source": [
    "for line in open(\"something.txt\", \"r\"):\n",
    "    print(line)"
   ]
  },
  {
   "cell_type": "code",
   "execution_count": 6,
   "id": "395dd998-20b8-4a59-a87e-5723e5ff097b",
   "metadata": {},
   "outputs": [
    {
     "data": {
      "text/plain": [
       "'a.b.c'"
      ]
     },
     "execution_count": 6,
     "metadata": {},
     "output_type": "execute_result"
    }
   ],
   "source": [
    "\".\".join([\"a\",\"b\",\"c\"])"
   ]
  },
  {
   "cell_type": "code",
   "execution_count": 7,
   "id": "956b8244-1982-4f64-a718-19532a4d8cee",
   "metadata": {},
   "outputs": [
    {
     "data": {
      "text/plain": [
       "\"a[i'm-join+]b[i'm-join+]c\""
      ]
     },
     "execution_count": 7,
     "metadata": {},
     "output_type": "execute_result"
    }
   ],
   "source": [
    "\"[i'm-join+]\".join([\"a\",\"b\",\"c\"])"
   ]
  },
  {
   "cell_type": "code",
   "execution_count": 8,
   "id": "abbdc512-d45d-48f8-b6d8-246a87caa860",
   "metadata": {},
   "outputs": [
    {
     "data": {
      "text/plain": [
       "'name.last_name.marks'"
      ]
     },
     "execution_count": 8,
     "metadata": {},
     "output_type": "execute_result"
    }
   ],
   "source": [
    "\".\".join(d)"
   ]
  },
  {
   "cell_type": "code",
   "execution_count": null,
   "id": "395b3d57-edb5-4b7c-833c-399eb5847c60",
   "metadata": {},
   "outputs": [],
   "source": []
  },
  {
   "cell_type": "code",
   "execution_count": 13,
   "id": "99c0dc73-df2f-406f-af99-547c75ad8982",
   "metadata": {},
   "outputs": [
    {
     "data": {
      "text/plain": [
       "['A', 'S', 'H', 'W', 'A', 'N', 'I']"
      ]
     },
     "execution_count": 13,
     "metadata": {},
     "output_type": "execute_result"
    }
   ],
   "source": [
    "a = list(\"ASHWANI\")\n",
    "a"
   ]
  },
  {
   "cell_type": "code",
   "execution_count": 15,
   "id": "2ee1445c-8cd2-49d8-8e55-1aa012d02099",
   "metadata": {},
   "outputs": [],
   "source": [
    "a = [1, 2, 3, 4]"
   ]
  },
  {
   "cell_type": "code",
   "execution_count": 16,
   "id": "483806ad-8880-4f49-a518-8c429fa5599c",
   "metadata": {},
   "outputs": [
    {
     "data": {
      "text/plain": [
       "10"
      ]
     },
     "execution_count": 16,
     "metadata": {},
     "output_type": "execute_result"
    }
   ],
   "source": [
    "sum(a)"
   ]
  },
  {
   "cell_type": "code",
   "execution_count": 18,
   "id": "f6299d03-565c-48cb-a331-6e8af6c37ff2",
   "metadata": {},
   "outputs": [
    {
     "data": {
      "text/plain": [
       "9"
      ]
     },
     "execution_count": 18,
     "metadata": {},
     "output_type": "execute_result"
    }
   ],
   "source": [
    "sum(a[1:])"
   ]
  },
  {
   "cell_type": "markdown",
   "id": "3adbccd2-bd56-4443-9c58-6666904378fa",
   "metadata": {},
   "source": [
    "## 2. Generators"
   ]
  },
  {
   "cell_type": "markdown",
   "id": "ef4fb825-0553-4121-a2a5-e74036e0fdfb",
   "metadata": {},
   "source": [
    "Simple functions or expression used to create iteraotro.\n",
    "\n",
    "Let's write a function return the factorial of first 10 natural number"
   ]
  },
  {
   "cell_type": "code",
   "execution_count": 23,
   "id": "ac7e5247-3113-4151-8c6d-6352e7b1c94a",
   "metadata": {},
   "outputs": [],
   "source": [
    "class fib:\n",
    "    def __init__(self):\n",
    "        self.prev = 0\n",
    "        self.curr = 1\n",
    "\n",
    "    def __iter__(self):\n",
    "        return self\n",
    "\n",
    "    def __next__(self):\n",
    "        value = self.curr\n",
    "        self.curr += self.prev\n",
    "        self.prev = value\n",
    "        return value"
   ]
  },
  {
   "cell_type": "code",
   "execution_count": 24,
   "id": "8ff081e1-7e66-4f4d-b199-8bd2d4ac4f3b",
   "metadata": {},
   "outputs": [],
   "source": [
    "f = iter(fib())"
   ]
  },
  {
   "cell_type": "code",
   "execution_count": 31,
   "id": "ba4bf53f-4c5f-48a9-8218-901b445bbeab",
   "metadata": {},
   "outputs": [
    {
     "data": {
      "text/plain": [
       "13"
      ]
     },
     "execution_count": 31,
     "metadata": {},
     "output_type": "execute_result"
    }
   ],
   "source": [
    "next(f)"
   ]
  },
  {
   "cell_type": "code",
   "execution_count": 45,
   "id": "b7bad6e8-1640-4e0b-89a4-0e0c6f8b2e69",
   "metadata": {},
   "outputs": [],
   "source": [
    "def fib():\n",
    "    prev, curr = 0, 1\n",
    "    while True:\n",
    "        yield curr\n",
    "        prev, curr = curr, prev + curr"
   ]
  },
  {
   "cell_type": "markdown",
   "id": "92709e35-3a88-4bfa-8b5b-926d98d02605",
   "metadata": {},
   "source": [
    "__yield__ keyword is used to make generator"
   ]
  },
  {
   "cell_type": "code",
   "execution_count": 46,
   "id": "212ed703-35cc-45d3-ad70-e08ff5accb39",
   "metadata": {},
   "outputs": [],
   "source": [
    "gen = fib()"
   ]
  },
  {
   "cell_type": "code",
   "execution_count": 55,
   "id": "a54180dc-74ed-41cf-84b2-5ed511dabb88",
   "metadata": {},
   "outputs": [
    {
     "data": {
      "text/plain": [
       "34"
      ]
     },
     "execution_count": 55,
     "metadata": {},
     "output_type": "execute_result"
    }
   ],
   "source": [
    "next(gen)"
   ]
  },
  {
   "cell_type": "markdown",
   "id": "c9de7cc4-52e6-404c-afd5-2ad91af9a97f",
   "metadata": {},
   "source": [
    "__Generator__ expression\n",
    "\n",
    "Now, let us find the sum of squares of first 10 natural numbers, but this time, without any function"
   ]
  },
  {
   "cell_type": "code",
   "execution_count": 56,
   "id": "5865c3bf-af40-45e7-8187-0666d97bf88f",
   "metadata": {},
   "outputs": [],
   "source": [
    "gen = (x**2 for x in range(1, 11))"
   ]
  },
  {
   "cell_type": "code",
   "execution_count": 70,
   "id": "3068cae3-f1d4-471e-8a45-334b50f0d848",
   "metadata": {},
   "outputs": [
    {
     "ename": "StopIteration",
     "evalue": "",
     "output_type": "error",
     "traceback": [
      "\u001b[0;31m---------------------------------------------------------------------------\u001b[0m",
      "\u001b[0;31mStopIteration\u001b[0m                             Traceback (most recent call last)",
      "Cell \u001b[0;32mIn[70], line 1\u001b[0m\n\u001b[0;32m----> 1\u001b[0m \u001b[38;5;28;43mnext\u001b[39;49m\u001b[43m(\u001b[49m\u001b[43mgen\u001b[49m\u001b[43m)\u001b[49m\n",
      "\u001b[0;31mStopIteration\u001b[0m: "
     ]
    }
   ],
   "source": [
    "next(gen)"
   ]
  },
  {
   "cell_type": "code",
   "execution_count": null,
   "id": "150d16c0-71e0-4d76-a091-80a1d118a4ba",
   "metadata": {},
   "outputs": [],
   "source": []
  },
  {
   "cell_type": "code",
   "execution_count": null,
   "id": "7f1510c4-15fe-449c-ac74-56c9951b50d8",
   "metadata": {},
   "outputs": [],
   "source": []
  },
  {
   "cell_type": "code",
   "execution_count": null,
   "id": "574c6826-992d-45a0-9ad8-782204de1712",
   "metadata": {},
   "outputs": [],
   "source": []
  }
 ],
 "metadata": {
  "kernelspec": {
   "display_name": "Python 3 (ipykernel)",
   "language": "python",
   "name": "python3"
  },
  "language_info": {
   "codemirror_mode": {
    "name": "ipython",
    "version": 3
   },
   "file_extension": ".py",
   "mimetype": "text/x-python",
   "name": "python",
   "nbconvert_exporter": "python",
   "pygments_lexer": "ipython3",
   "version": "3.9.6"
  }
 },
 "nbformat": 4,
 "nbformat_minor": 5
}
